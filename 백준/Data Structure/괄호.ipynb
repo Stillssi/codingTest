{
 "cells": [
  {
   "cell_type": "code",
   "execution_count": null,
   "metadata": {},
   "outputs": [],
   "source": [
    "import sys\n",
    "sys.stdin = open('./input.txt')\n",
    "\n",
    "N = int(sys.stdin.readline())\n",
    "\n",
    "for i in range(N):\n",
    "    line = sys.stdin.readline().strip()\n",
    "    stack = []\n",
    "    for j in line:\n",
    "        if len(stack) > 0:\n",
    "            if stack[-1] + j == '()':\n",
    "                stack.pop()\n",
    "            else:\n",
    "                stack.append(j)\n",
    "        else:\n",
    "            stack.append(j)\n",
    "    \n",
    "    if len(stack) == 0:\n",
    "        print(\"YES\")\n",
    "    else:\n",
    "        print(\"NO\")\n",
    "\n",
    "    "
   ]
  },
  {
   "cell_type": "code",
   "execution_count": null,
   "metadata": {},
   "outputs": [],
   "source": []
  }
 ],
 "metadata": {
  "kernelspec": {
   "display_name": "Python 3",
   "language": "python",
   "name": "python3"
  },
  "language_info": {
   "codemirror_mode": {
    "name": "ipython",
    "version": 3
   },
   "file_extension": ".py",
   "mimetype": "text/x-python",
   "name": "python",
   "nbconvert_exporter": "python",
   "pygments_lexer": "ipython3",
   "version": "3.11.0"
  },
  "orig_nbformat": 4
 },
 "nbformat": 4,
 "nbformat_minor": 2
}
