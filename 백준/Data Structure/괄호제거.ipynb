{
 "cells": [
  {
   "cell_type": "code",
   "execution_count": null,
   "metadata": {},
   "outputs": [],
   "source": [
    "import sys\n",
    "\n",
    "sys.stdin = open('./input.txt')\n",
    "express = [i for i in sys.stdin.readline().strip()]\n",
    "s = len(express)\n",
    "index = [-1 for _ in range(s)]\n",
    "stack = []\n",
    "curr = 0\n",
    "answer = []\n",
    "for i,v in enumerate(express):\n",
    "    if v == '(':\n",
    "        stack.append(curr)\n",
    "        index[i] = curr \n",
    "        curr += 1\n",
    "    elif v ==')':\n",
    "        index[i] = stack.pop()\n",
    "\n",
    "choose = [0 for _ in range(curr)]\n",
    "def func(cnt):\n",
    "    if cnt == curr:\n",
    "        blanket_cnt = sum(choose)\n",
    "        if blanket_cnt == 0:\n",
    "            return\n",
    "        \n",
    "        string = \"\"\n",
    "        for i,v in enumerate(express):\n",
    "            if index[i] == -1 or choose[index[i]] == 0:\n",
    "                string += v\n",
    "        answer.append(string)\n",
    "        return\n",
    "    \n",
    "    choose[cnt] = 1\n",
    "    func(cnt + 1)\n",
    "    choose[cnt] = 0\n",
    "    func(cnt + 1)\n",
    "\n",
    "func(0)\n",
    "\n",
    "answer = sorted(set(answer))\n",
    "print('\\n'.join(answer))\n"
   ]
  },
  {
   "cell_type": "code",
   "execution_count": null,
   "metadata": {},
   "outputs": [],
   "source": []
  }
 ],
 "metadata": {
  "kernelspec": {
   "display_name": "Python 3",
   "language": "python",
   "name": "python3"
  },
  "language_info": {
   "codemirror_mode": {
    "name": "ipython",
    "version": 3
   },
   "file_extension": ".py",
   "mimetype": "text/x-python",
   "name": "python",
   "nbconvert_exporter": "python",
   "pygments_lexer": "ipython3",
   "version": "3.11.0"
  },
  "orig_nbformat": 4
 },
 "nbformat": 4,
 "nbformat_minor": 2
}
