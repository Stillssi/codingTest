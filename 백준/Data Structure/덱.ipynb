{
 "cells": [
  {
   "cell_type": "markdown",
   "metadata": {},
   "source": [
    "push_front X: 정수 X를 덱의 앞에 넣는다.  \n",
    "push_back X: 정수 X를 덱의 뒤에 넣는다.  \n",
    "pop_front: 덱의 가장 앞에 있는 수를 빼고, 그 수를 출력한다. 만약, 덱에 들어있는 정수가 없는 경우에는 -1을 출력한다.  \n",
    "pop_back: 덱의 가장 뒤에 있는 수를 빼고, 그 수를 출력한다. 만약, 덱에 들어있는 정수가 없는 경우에는 -1을 출력한다.  \n",
    "size: 덱에 들어있는 정수의 개수를 출력한다.  \n",
    "empty: 덱이 비어있으면 1을, 아니면 0을 출력한다.  \n",
    "front: 덱의 가장 앞에 있는 정수를 출력한다. 만약 덱에 들어있는 정수가 없는 경우에는 -1을 출력한다.  \n",
    "back: 덱의 가장 뒤에 있는 정수를 출력한다. 만약 덱에 들어있는 정수가 없는 경우에는 -1을 출력한다.  "
   ]
  },
  {
   "cell_type": "code",
   "execution_count": null,
   "metadata": {},
   "outputs": [],
   "source": [
    "import sys\n",
    "from collections import deque\n",
    "sys.stdin = open('./input.txt')\n",
    "\n",
    "N = int(sys.stdin.readline())\n",
    "dq = deque()\n",
    "for i in range(N):\n",
    "    instruction = sys.stdin.readline().split()\n",
    "    \n",
    "    if instruction[0] == 'push_front':\n",
    "        dq.appendleft(instruction[1])\n",
    "    elif instruction[0] == 'push_back':\n",
    "        dq.append(instruction[1])\n",
    "    elif instruction[0] == 'pop_front':\n",
    "        if len(dq) != 0:\n",
    "            print(dq.popleft())\n",
    "        else:\n",
    "            print(-1)\n",
    "    elif instruction[0] == 'pop_back':\n",
    "        if len(dq) != 0:\n",
    "            print(dq.pop())\n",
    "        else:\n",
    "            print(-1)\n",
    "    elif instruction[0] == 'size':\n",
    "        print(len(dq))\n",
    "    elif instruction[0] == 'empty':\n",
    "        if len(dq) == 0:\n",
    "            print(1)\n",
    "        else:\n",
    "            print(0)\n",
    "    elif instruction[0] == 'front':\n",
    "        if len(dq):\n",
    "            print(dq[0])\n",
    "        else:\n",
    "            print(-1)\n",
    "    else:\n",
    "        if len(dq):\n",
    "            print(dq[-1])\n",
    "        else:\n",
    "            print(-1)\n",
    "    \n"
   ]
  }
 ],
 "metadata": {
  "kernelspec": {
   "display_name": "Python 3",
   "language": "python",
   "name": "python3"
  },
  "language_info": {
   "codemirror_mode": {
    "name": "ipython",
    "version": 3
   },
   "file_extension": ".py",
   "mimetype": "text/x-python",
   "name": "python",
   "nbconvert_exporter": "python",
   "pygments_lexer": "ipython3",
   "version": "3.11.0"
  },
  "orig_nbformat": 4
 },
 "nbformat": 4,
 "nbformat_minor": 2
}
