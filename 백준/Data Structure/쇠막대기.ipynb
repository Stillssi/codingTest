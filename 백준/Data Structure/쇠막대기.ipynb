{
 "cells": [
  {
   "cell_type": "code",
   "execution_count": null,
   "metadata": {},
   "outputs": [],
   "source": [
    "import sys\n",
    "import numpy as np\n",
    "sys.stdin = open('./input.txt')\n",
    "\n",
    "bracket = sys.stdin.readline().strip()\n",
    "\n",
    "answer = 0\n",
    "num = []\n",
    "stack = []\n",
    "for i in range(len(bracket)):\n",
    "    if bracket[i] == '(' and bracket[i+1]==')':\n",
    "        if len(num):\n",
    "            num = np.add(num, 1).tolist()\n",
    "    elif bracket[i] == '(':\n",
    "        num.append(1)\n",
    "        stack.append('(')\n",
    "    elif bracket[i] == ')' and bracket[i-1]=='(':\n",
    "        pass\n",
    "    elif bracket[i] == ')':\n",
    "        answer += num.pop()\n",
    "        stack.pop()\n",
    "\n",
    "\n",
    "print(answer)"
   ]
  },
  {
   "cell_type": "code",
   "execution_count": null,
   "metadata": {},
   "outputs": [],
   "source": [
    "import sys\n",
    "\n",
    "sys.stdin = open('./input.txt')\n",
    "bracket = sys.stdin.readline().strip()\n",
    "\n",
    "answer = 0\n",
    "stack = []\n",
    "\n",
    "for i in range(len(bracket)):\n",
    "    if bracket[i] == '(':\n",
    "        stack.append('(')\n",
    "    elif bracket[i] == ')' and bracket[i-1] == '(':\n",
    "        stack.pop()\n",
    "        answer += len(stack)  # a laser cuts all current open pieces\n",
    "    else:\n",
    "        stack.pop()  # a piece ends\n",
    "        answer += 1  # count the end piece\n",
    "\n",
    "print(answer)\n"
   ]
  },
  {
   "cell_type": "code",
   "execution_count": null,
   "metadata": {},
   "outputs": [],
   "source": []
  }
 ],
 "metadata": {
  "kernelspec": {
   "display_name": "Python 3",
   "language": "python",
   "name": "python3"
  },
  "language_info": {
   "codemirror_mode": {
    "name": "ipython",
    "version": 3
   },
   "file_extension": ".py",
   "mimetype": "text/x-python",
   "name": "python",
   "nbconvert_exporter": "python",
   "pygments_lexer": "ipython3",
   "version": "3.11.0"
  },
  "orig_nbformat": 4
 },
 "nbformat": 4,
 "nbformat_minor": 2
}
