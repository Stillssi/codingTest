{
 "cells": [
  {
   "cell_type": "markdown",
   "metadata": {},
   "source": [
    "정수를 저장하는 스택을 구현한 다음, 입력으로 주어지는 명령을 처리하는 프로그램을 작성하시오.\n",
    "\n",
    "명령은 총 다섯 가지이다.\n",
    "\n",
    "push X: 정수 X를 스택에 넣는 연산이다.  \n",
    "pop: 스택에서 가장 위에 있는 정수를 빼고, 그 수를 출력한다. 만약 스택에 들어있는 정수가 없는 경우에는 -1을 출력한다.  \n",
    "size: 스택에 들어있는 정수의 개수를 출력한다.  \n",
    "empty: 스택이 비어있으면 1, 아니면 0을 출력한다.  \n",
    "top: 스택의 가장 위에 있는 정수를 출력한다. 만약 스택에 들어있는 정수가 없는 경우에는 -1을 출력한다.  "
   ]
  },
  {
   "cell_type": "code",
   "execution_count": null,
   "metadata": {},
   "outputs": [],
   "source": [
    "import sys\n",
    "sys.stdin = open('./input.txt')\n",
    "\n",
    "N = int(sys.stdin.readline())\n",
    "stack = []\n",
    "for i in range(N):\n",
    "    line = sys.stdin.readline().split()\n",
    "    if len(line) == 1:\n",
    "        if line[0] == 'pop':\n",
    "            if len(stack) > 0:\n",
    "                print(stack.pop())\n",
    "            else:\n",
    "                print(-1)\n",
    "        elif line[0]== 'size':\n",
    "            print(len(stack))\n",
    "        elif line[0] == 'empty':\n",
    "            if len(stack) > 0:\n",
    "                print(0)\n",
    "            else:\n",
    "                print(1)\n",
    "        else:\n",
    "            if len(stack) > 0:\n",
    "                print(stack[-1])\n",
    "            else:\n",
    "                print(-1)\n",
    "    else:\n",
    "        stack.append(int(line[1]))"
   ]
  }
 ],
 "metadata": {
  "kernelspec": {
   "display_name": "Python 3",
   "language": "python",
   "name": "python3"
  },
  "language_info": {
   "codemirror_mode": {
    "name": "ipython",
    "version": 3
   },
   "file_extension": ".py",
   "mimetype": "text/x-python",
   "name": "python",
   "nbconvert_exporter": "python",
   "pygments_lexer": "ipython3",
   "version": "3.11.0"
  },
  "orig_nbformat": 4
 },
 "nbformat": 4,
 "nbformat_minor": 2
}
