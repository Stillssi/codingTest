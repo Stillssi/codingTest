{
 "cells": [
  {
   "cell_type": "code",
   "execution_count": null,
   "metadata": {},
   "outputs": [],
   "source": [
    "import sys \n",
    "def solution():\n",
    "    N = int(sys.stdin.readline())\n",
    "    stack = []\n",
    "    result = []\n",
    "    counter = 0\n",
    "    for _ in range(N):\n",
    "        num = int(sys.stdin.readline())\n",
    "        while counter < num:  \n",
    "            counter += 1\n",
    "            stack.append(counter)\n",
    "            result.append('+')\n",
    "        if stack and stack[-1] == num:\n",
    "            stack.pop()\n",
    "            result.append('-')\n",
    "        elif not stack or stack[-1] != num:\n",
    "            return 'NO'\n",
    "    return result\n",
    "\n",
    "sys.stdin = open('./input.txt')\n",
    "\n",
    "result = solution()\n",
    "if result == 'NO':\n",
    "    print('NO')\n",
    "else:\n",
    "    for r in result:\n",
    "        print(r)\n"
   ]
  }
 ],
 "metadata": {
  "kernelspec": {
   "display_name": "Python 3",
   "language": "python",
   "name": "python3"
  },
  "language_info": {
   "codemirror_mode": {
    "name": "ipython",
    "version": 3
   },
   "file_extension": ".py",
   "mimetype": "text/x-python",
   "name": "python",
   "nbconvert_exporter": "python",
   "pygments_lexer": "ipython3",
   "version": "3.11.0"
  },
  "orig_nbformat": 4
 },
 "nbformat": 4,
 "nbformat_minor": 2
}
