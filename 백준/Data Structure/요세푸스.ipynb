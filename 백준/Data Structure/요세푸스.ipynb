{
 "cells": [
  {
   "cell_type": "code",
   "execution_count": null,
   "metadata": {},
   "outputs": [],
   "source": [
    "import sys\n",
    "from collections import deque\n",
    "\n",
    "sys.stdin = open('./input.txt')\n",
    "\n",
    "N,K = list(map(int, sys.stdin.readline().split()))\n",
    "\n",
    "dq = deque([i for i in range(1,N+1)])\n",
    "answer = []\n",
    "\n",
    "i = 1\n",
    "while dq:\n",
    "    n = dq.popleft()\n",
    "    if i % K == 0:\n",
    "        answer.append(str(n)) \n",
    "    else:\n",
    "        dq.append(n)\n",
    "    i += 1\n",
    "print(\"<\" + \", \".join(answer)+\">\")"
   ]
  }
 ],
 "metadata": {
  "kernelspec": {
   "display_name": "Python 3",
   "language": "python",
   "name": "python3"
  },
  "language_info": {
   "codemirror_mode": {
    "name": "ipython",
    "version": 3
   },
   "file_extension": ".py",
   "mimetype": "text/x-python",
   "name": "python",
   "nbconvert_exporter": "python",
   "pygments_lexer": "ipython3",
   "version": "3.11.0"
  },
  "orig_nbformat": 4
 },
 "nbformat": 4,
 "nbformat_minor": 2
}
