{
 "cells": [
  {
   "cell_type": "markdown",
   "metadata": {},
   "source": [
    "push X: 정수 X를 큐에 넣는 연산이다.  \n",
    "pop: 큐에서 가장 앞에 있는 정수를 빼고, 그 수를 출력한다. 만약 큐에 들어있는 정수가 없는 경우에는 -1을 출력한다.  \n",
    "size: 큐에 들어있는 정수의 개수를 출력한다.  \n",
    "empty: 큐가 비어있으면 1, 아니면 0을 출력한다.  \n",
    "front: 큐의 가장 앞에 있는 정수를 출력한다. 만약 큐에 들어있는 정수가 없는 경우에는 -1을 출력한다.  \n",
    "back: 큐의 가장 뒤에 있는 정수를 출력한다. 만약 큐에 들어있는 정수가 없는 경우에는 -1을 출력한다.  "
   ]
  },
  {
   "cell_type": "code",
   "execution_count": null,
   "metadata": {},
   "outputs": [],
   "source": [
    "import sys\n",
    "from collections import deque\n",
    "sys.stdin = open('./input.txt')\n",
    "\n",
    "N =  int(sys.stdin.readline())\n",
    "dq = deque()\n",
    "\n",
    "for i in range(N):\n",
    "    line = sys.stdin.readline().split()\n",
    "    if len(line) == 1:\n",
    "        if line[0] == 'pop':\n",
    "            if len(dq) > 0:\n",
    "                print(dq.popleft())\n",
    "            else:\n",
    "                print(-1)\n",
    "        elif line[0] == 'size':\n",
    "            print(len(dq))\n",
    "        elif line[0] == 'empty':\n",
    "            if len(dq) == 0:\n",
    "                print(1)\n",
    "            else:\n",
    "                print(0)\n",
    "        elif line[0] == 'front':\n",
    "            if len(dq) > 0:\n",
    "                print(dq[0])\n",
    "            else:\n",
    "                print(-1)\n",
    "        else:\n",
    "            if len(dq) > 0:\n",
    "                print(dq[-1])\n",
    "            else:\n",
    "                print(-1)\n",
    "\n",
    "    else:\n",
    "        dq.append(int(line[1]))"
   ]
  }
 ],
 "metadata": {
  "kernelspec": {
   "display_name": "Python 3",
   "language": "python",
   "name": "python3"
  },
  "language_info": {
   "codemirror_mode": {
    "name": "ipython",
    "version": 3
   },
   "file_extension": ".py",
   "mimetype": "text/x-python",
   "name": "python",
   "nbconvert_exporter": "python",
   "pygments_lexer": "ipython3",
   "version": "3.11.0"
  },
  "orig_nbformat": 4
 },
 "nbformat": 4,
 "nbformat_minor": 2
}
