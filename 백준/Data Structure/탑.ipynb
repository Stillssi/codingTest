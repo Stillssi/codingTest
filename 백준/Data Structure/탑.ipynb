{
 "cells": [
  {
   "cell_type": "code",
   "execution_count": null,
   "metadata": {},
   "outputs": [],
   "source": [
    "import sys\n",
    "sys.stdin = open('./input.txt')\n",
    "\n",
    "N = int(sys.stdin.readline())\n",
    "\n",
    "top = [(i+1,j) for i,j in enumerate(list(map(int, sys.stdin.readline().split())))]\n",
    "answer = []\n",
    "\n",
    "while top:\n",
    "    stack = []\n",
    "    k = top.pop()\n",
    "    for i in reversed(range(len(top))):\n",
    "        if top[i][1] > k[1]:\n",
    "            answer.append(top[i][0])\n",
    "            break\n",
    "    else:\n",
    "        answer.append(0)\n",
    "            \n",
    "answer.reverse()\n",
    "print(answer)\n"
   ]
  },
  {
   "cell_type": "code",
   "execution_count": null,
   "metadata": {},
   "outputs": [],
   "source": [
    "import sys\n",
    "sys.stdin = open('./input.txt')\n",
    "\n",
    "N = int(sys.stdin.readline())\n",
    "\n",
    "top = [(i+1,j) for i,j in enumerate(list(map(int, sys.stdin.readline().split())))]\n",
    "print(top)\n",
    "answer = []\n",
    "stack = []\n",
    "\n",
    "for i in range(N):\n",
    "    while stack:\n",
    "        if stack[-1][1] > top[i][1]:\n",
    "            answer.append(stack[-1][0])\n",
    "            break\n",
    "        else:\n",
    "            stack.pop()\n",
    "    if not stack:\n",
    "        answer.append(0)\n",
    "    stack.append(top[i])\n",
    "print(\" \".join(map(str, answer)))\n"
   ]
  }
 ],
 "metadata": {
  "kernelspec": {
   "display_name": "Python 3",
   "language": "python",
   "name": "python3"
  },
  "language_info": {
   "codemirror_mode": {
    "name": "ipython",
    "version": 3
   },
   "file_extension": ".py",
   "mimetype": "text/x-python",
   "name": "python",
   "nbconvert_exporter": "python",
   "pygments_lexer": "ipython3",
   "version": "3.11.0"
  },
  "orig_nbformat": 4
 },
 "nbformat": 4,
 "nbformat_minor": 2
}
