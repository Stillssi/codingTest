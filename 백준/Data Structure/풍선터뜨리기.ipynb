{
 "cells": [
  {
   "cell_type": "code",
   "execution_count": null,
   "metadata": {},
   "outputs": [],
   "source": [
    "import sys\n",
    "from collections import deque\n",
    "sys.stdin = open('./input.txt')\n",
    "\n",
    "N = int(sys.stdin.readline())\n",
    "dq = deque((i+1,j) for i,j in enumerate(map(int, sys.stdin.readline().split())))\n",
    "first = dq.popleft()\n",
    "tmp = first[1]\n",
    "print(first[0], end=\" \")\n",
    "\n",
    "while dq:\n",
    "    if tmp > 0:\n",
    "        for i in range(tmp-1):\n",
    "            dq.append(dq.popleft())\n",
    "        order = dq.popleft()\n",
    "    else:\n",
    "        for i in range(abs(tmp)-1):\n",
    "            dq.appendleft(dq.pop())\n",
    "        order = dq.pop()\n",
    "    tmp = order[1]\n",
    "    print(order[0], end=\" \")\n",
    "\n",
    "\n"
   ]
  }
 ],
 "metadata": {
  "kernelspec": {
   "display_name": "Python 3",
   "language": "python",
   "name": "python3"
  },
  "language_info": {
   "codemirror_mode": {
    "name": "ipython",
    "version": 3
   },
   "file_extension": ".py",
   "mimetype": "text/x-python",
   "name": "python",
   "nbconvert_exporter": "python",
   "pygments_lexer": "ipython3",
   "version": "3.11.0"
  },
  "orig_nbformat": 4
 },
 "nbformat": 4,
 "nbformat_minor": 2
}
