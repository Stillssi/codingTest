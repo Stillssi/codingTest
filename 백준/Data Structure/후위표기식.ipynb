{
 "cells": [
  {
   "cell_type": "code",
   "execution_count": null,
   "metadata": {},
   "outputs": [],
   "source": [
    "import sys\n",
    "sys.stdin = open('./input.txt')\n",
    "\n",
    "N = int(sys.stdin.readline())\n",
    "posix =sys.stdin.readline().strip()\n",
    "stack = []\n",
    "value = {}\n",
    "\n",
    "for i in posix:\n",
    "    if i.isalpha():\n",
    "        if i in value:\n",
    "            stack.append(value[i])\n",
    "            pass\n",
    "        else:\n",
    "            value[i] = int(sys.stdin.readline().strip())\n",
    "            stack.append(value[i])\n",
    "    else:\n",
    "        a = stack.pop()\n",
    "        b = stack.pop()\n",
    "        if i == '*':\n",
    "            stack.append(round(b*a,2))\n",
    "        elif i == \"+\":\n",
    "            stack.append(b+a)\n",
    "        elif i=='-':\n",
    "            stack.append(b-a)\n",
    "        else:\n",
    "            stack.append(round(b/a,2))\n",
    "\n",
    "print(\"{:.2f}\".format(stack[0]))\n"
   ]
  }
 ],
 "metadata": {
  "kernelspec": {
   "display_name": "Python 3",
   "language": "python",
   "name": "python3"
  },
  "language_info": {
   "codemirror_mode": {
    "name": "ipython",
    "version": 3
   },
   "file_extension": ".py",
   "mimetype": "text/x-python",
   "name": "python",
   "nbconvert_exporter": "python",
   "pygments_lexer": "ipython3",
   "version": "3.11.0"
  },
  "orig_nbformat": 4
 },
 "nbformat": 4,
 "nbformat_minor": 2
}
