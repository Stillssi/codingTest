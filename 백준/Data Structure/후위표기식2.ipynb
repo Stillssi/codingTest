{
 "cells": [
  {
   "cell_type": "code",
   "execution_count": null,
   "metadata": {},
   "outputs": [],
   "source": [
    "\n",
    "import sys\n",
    "sys.stdin = open('./input.txt')\n",
    "def infix_to_postfix(infix_expression):\n",
    "    # 연산자 우선순위\n",
    "    precedence = {'+':1, '-':1, '*':2, '/':2, '^':3}\n",
    "\n",
    "    stack = [] # 연산자를 담을 스택\n",
    "    postfix = [] # 후위 표기식을 담을 리스트\n",
    "\n",
    "    for token in infix_expression:\n",
    "        if token.isalpha(): # 피연산자일 경우\n",
    "            postfix.append(token)\n",
    "        elif token == '(': # 여는 괄호일 경우\n",
    "            stack.append(token)\n",
    "        elif token == ')': # 닫는 괄호일 경우\n",
    "            top = stack.pop()\n",
    "            while top != '(':\n",
    "                postfix.append(top)\n",
    "                top = stack.pop()\n",
    "        else: # 연산자일 경우 \n",
    "            #연산자 스택이 비어있지 않고, top이 (가 아니고, top의 연산자 우선순위가 입력 기호보다 클때 후위 연산자 식에 append\n",
    "            while stack and stack[-1] != '(' and precedence[token] <= precedence[stack[-1]]:\n",
    "                postfix.append(stack.pop())\n",
    "            stack.append(token)\n",
    "    \n",
    "    # 스택에 남은 모든 연산자를 pop하여 postfix에 추가\n",
    "    while stack:\n",
    "        postfix.append(stack.pop())\n",
    "\n",
    "    return ''.join(postfix) # 리스트를 문자열로 변환\n",
    "\n",
    "# 예제\n",
    "print(infix_to_postfix(sys.stdin.readline().strip()))\n"
   ]
  },
  {
   "cell_type": "code",
   "execution_count": null,
   "metadata": {},
   "outputs": [],
   "source": [
    "import sys\n",
    "\n",
    "sys.stdin = open('./input.txt')\n",
    "infix = sys.stdin.readline().strip()\n",
    "preference = {'+': 1, '-': 1, '*': 2, '/': 2}\n",
    "\n",
    "stack = []\n",
    "posix = []\n",
    "\n",
    "for i in infix:\n",
    "    if i.isalpha():\n",
    "        posix.append(i)\n",
    "    elif i == '(':\n",
    "        stack.append(i)\n",
    "    elif i == ')': # 닫는 괄호일 경우\n",
    "        top = stack.pop()\n",
    "        while top != '(':\n",
    "            posix.append(top)\n",
    "            top = stack.pop()\n",
    "    else:\n",
    "        while stack and stack[-1] != '(' and preference[i] <= preference[stack[-1]]:\n",
    "            posix.append(stack.pop())\n",
    "        stack.append(i)\n",
    "    \n",
    "while stack:\n",
    "       posix.append(stack.pop())\n",
    "\n",
    "print(\"\".join(posix))"
   ]
  },
  {
   "cell_type": "code",
   "execution_count": null,
   "metadata": {},
   "outputs": [],
   "source": []
  }
 ],
 "metadata": {
  "kernelspec": {
   "display_name": "Python 3",
   "language": "python",
   "name": "python3"
  },
  "language_info": {
   "codemirror_mode": {
    "name": "ipython",
    "version": 3
   },
   "file_extension": ".py",
   "mimetype": "text/x-python",
   "name": "python",
   "nbconvert_exporter": "python",
   "pygments_lexer": "ipython3",
   "version": "3.11.0"
  },
  "orig_nbformat": 4
 },
 "nbformat": 4,
 "nbformat_minor": 2
}
