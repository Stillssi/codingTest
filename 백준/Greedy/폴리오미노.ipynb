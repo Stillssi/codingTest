{
 "cells": [
  {
   "cell_type": "code",
   "execution_count": null,
   "metadata": {},
   "outputs": [],
   "source": [
    "import sys\n",
    "\n",
    "def process_poly_string(poly):\n",
    "    A = 'AAAA'\n",
    "    B = 'BB'\n",
    "    parts = poly.split('.')\n",
    "    result = []\n",
    "\n",
    "    for part in parts:\n",
    "        X_count = len(part)\n",
    "        a_count, remainder = divmod(X_count, len(A))\n",
    "        \n",
    "        if remainder % len(B) != 0:\n",
    "            return -1\n",
    "\n",
    "        b_count = remainder // len(B)\n",
    "\n",
    "        result.append(A * a_count + B * b_count)\n",
    "\n",
    "    return '.'.join(result)\n",
    "\n",
    "sys.stdin = open('./input.txt')\n",
    "poly = sys.stdin.readline().strip()\n",
    "print(process_poly_string(poly))\n"
   ]
  }
 ],
 "metadata": {
  "kernelspec": {
   "display_name": "Python 3",
   "language": "python",
   "name": "python3"
  },
  "language_info": {
   "codemirror_mode": {
    "name": "ipython",
    "version": 3
   },
   "file_extension": ".py",
   "mimetype": "text/x-python",
   "name": "python",
   "nbconvert_exporter": "python",
   "pygments_lexer": "ipython3",
   "version": "3.11.0"
  },
  "orig_nbformat": 4
 },
 "nbformat": 4,
 "nbformat_minor": 2
}
