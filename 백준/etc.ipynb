{
 "cells": [
  {
   "cell_type": "code",
   "execution_count": null,
   "metadata": {},
   "outputs": [],
   "source": [
    "import sys\n",
    "sys.stdin = open('./input.txt')\n",
    "k = -11\n",
    "for i in range(1,10):\n",
    "    N = int(sys.stdin.readline())\n",
    "    if N > k:\n",
    "        k = N\n",
    "        ans = i\n",
    "print(k)\n",
    "print(ans)"
   ]
  },
  {
   "cell_type": "code",
   "execution_count": null,
   "metadata": {},
   "outputs": [],
   "source": [
    "import sys\n",
    "\n",
    "sys.stdin = open('./input.txt')\n",
    "N = int(sys.stdin.readline())\n",
    "answer =''\n",
    "for i in range(N):\n",
    "    num, line = sys.stdin.readline().split()\n",
    "    for j in line:\n",
    "        answer += j*int(num)\n",
    "    print(answer)\n",
    "    answer = ''\n"
   ]
  },
  {
   "cell_type": "code",
   "execution_count": null,
   "metadata": {},
   "outputs": [],
   "source": [
    "import sys\n",
    "\n",
    "sys.stdin = open('./input.txt')\n",
    "ans = list(sys.stdin.readline().strip().split(' '))\n",
    "ans = [i for i in ans if i]\n",
    "print(len(ans))"
   ]
  },
  {
   "cell_type": "code",
   "execution_count": null,
   "metadata": {},
   "outputs": [],
   "source": [
    "import sys\n",
    "\n",
    "sys.stdin = open('./input.txt')\n",
    "\n",
    "N = int(sys.stdin.readline())\n",
    "line = list(sys.stdin.readline().strip())\n",
    "answer = 0\n",
    "for i in line:\n",
    "    answer += int(i)\n",
    "\n",
    "print(answer)"
   ]
  },
  {
   "cell_type": "code",
   "execution_count": null,
   "metadata": {},
   "outputs": [],
   "source": [
    "import sys\n",
    "\n",
    "sys.stdin = open('./input.txt')\n",
    "\n",
    "N = int(sys.stdin.readline())\n",
    "\n",
    "for i in range(1, N+1):\n",
    "    for j in range(N,0, -1):\n",
    "        if i >= j:\n",
    "            print('*', end=\"\")\n",
    "        else:\n",
    "            print(' ', end=\"\")\n",
    "    if i == N or i == 0:\n",
    "        continue\n",
    "    else:\n",
    "        print()"
   ]
  }
 ],
 "metadata": {
  "kernelspec": {
   "display_name": "Python 3",
   "language": "python",
   "name": "python3"
  },
  "language_info": {
   "codemirror_mode": {
    "name": "ipython",
    "version": 3
   },
   "file_extension": ".py",
   "mimetype": "text/x-python",
   "name": "python",
   "nbconvert_exporter": "python",
   "pygments_lexer": "ipython3",
   "version": "3.11.0"
  },
  "orig_nbformat": 4
 },
 "nbformat": 4,
 "nbformat_minor": 2
}
