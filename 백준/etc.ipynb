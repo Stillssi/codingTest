{
 "cells": [
  {
   "cell_type": "code",
   "execution_count": null,
   "metadata": {},
   "outputs": [],
   "source": [
    "import sys\n",
    "sys.stdin = open('./input.txt')\n",
    "k = -11\n",
    "for i in range(1,10):\n",
    "    N = int(sys.stdin.readline())\n",
    "    if N > k:\n",
    "        k = N\n",
    "        ans = i\n",
    "print(k)\n",
    "print(ans)"
   ]
  },
  {
   "cell_type": "code",
   "execution_count": null,
   "metadata": {},
   "outputs": [],
   "source": [
    "import sys\n",
    "\n",
    "sys.stdin = open('./input.txt')\n",
    "N = int(sys.stdin.readline())\n",
    "answer =''\n",
    "for i in range(N):\n",
    "    num, line = sys.stdin.readline().split()\n",
    "    for j in line:\n",
    "        answer += j*int(num)\n",
    "    print(answer)\n",
    "    answer = ''\n"
   ]
  },
  {
   "cell_type": "code",
   "execution_count": null,
   "metadata": {},
   "outputs": [],
   "source": [
    "import sys\n",
    "\n",
    "sys.stdin = open('./input.txt')\n",
    "ans = list(sys.stdin.readline().strip().split(' '))\n",
    "ans = [i for i in ans if i]\n",
    "print(len(ans))"
   ]
  },
  {
   "cell_type": "code",
   "execution_count": null,
   "metadata": {},
   "outputs": [],
   "source": [
    "import sys\n",
    "\n",
    "sys.stdin = open('./input.txt')\n",
    "\n",
    "N = int(sys.stdin.readline())\n",
    "line = list(sys.stdin.readline().strip())\n",
    "answer = 0\n",
    "for i in line:\n",
    "    answer += int(i)\n",
    "\n",
    "print(answer)"
   ]
  },
  {
   "cell_type": "code",
   "execution_count": null,
   "metadata": {},
   "outputs": [],
   "source": [
    "import sys\n",
    "\n",
    "sys.stdin = open('./input.txt')\n",
    "\n",
    "N = int(sys.stdin.readline())\n",
    "\n",
    "for i in range(1, N+1):\n",
    "    for j in range(N,0, -1):\n",
    "        if i >= j:\n",
    "            print('*', end=\"\")\n",
    "        else:\n",
    "            print(' ', end=\"\")\n",
    "    if i == N or i == 0:\n",
    "        continue\n",
    "    else:\n",
    "        print()"
   ]
  },
  {
   "cell_type": "code",
   "execution_count": null,
   "metadata": {},
   "outputs": [],
   "source": [
    "import sys\n",
    "\n",
    "sys.stdin = open('./input.txt')\n",
    "l = []\n",
    "for i in range(3):\n",
    "    l.append(int(sys.stdin.readline()))\n",
    "A,B,C = l\n",
    "k = str(A*B*C)\n",
    "\n",
    "for i in range(10):\n",
    "    print(k.count(str(i)))"
   ]
  },
  {
   "cell_type": "code",
   "execution_count": null,
   "metadata": {},
   "outputs": [],
   "source": [
    "import sys\n",
    "sys.stdin = open('./input.txt')\n",
    "l = list(map(int, sys.stdin.readline().split()))\n",
    "tmp = l[0]\n",
    "dict  ={ '-': 0, '+': 0}\n",
    "\n",
    "for i in range(1, len(l)):\n",
    "    if tmp < l[i]:\n",
    "        dict['+'] += 1\n",
    "    else:\n",
    "        dict['-'] += 1\n",
    "    tmp = l[i]\n",
    "if dict['+'] and dict['-']:\n",
    "    print('mixed')\n",
    "elif dict['+']:\n",
    "    print('ascending')\n",
    "else:\n",
    "    print(\"descending\")        \n"
   ]
  },
  {
   "cell_type": "code",
   "execution_count": null,
   "metadata": {},
   "outputs": [],
   "source": [
    "import sys\n",
    "\n",
    "sys.stdin = open('./input.txt')\n",
    "N = 42\n",
    "dict = {}\n",
    "for i in range(10):\n",
    "    tmp = int(sys.stdin.readline()) % N\n",
    "    if dict.get(tmp):\n",
    "        dict[tmp] += 1\n",
    "    else:\n",
    "        dict[tmp] = 1\n",
    "print(len(dict.keys()))"
   ]
  },
  {
   "cell_type": "code",
   "execution_count": null,
   "metadata": {},
   "outputs": [],
   "source": [
    "import sys\n",
    "\n",
    "sys.stdin = open('./input.txt')\n",
    "\n",
    "N = int(sys.stdin.readline())\n",
    "answer = 0\n",
    "for i in range(N):\n",
    "    l = sys.stdin.readline().strip()\n",
    "    before, answer = 0, 0\n",
    "    for j in l:\n",
    "        if j == 'O' and before == 1:\n",
    "            tmp += 1\n",
    "            answer += tmp\n",
    "            before = 1\n",
    "        elif j == 'O':\n",
    "            tmp, before = 1,1\n",
    "            answer += 1\n",
    "        else:\n",
    "            tmp, before = 0, 0\n",
    "            continue\n",
    "    print(answer)"
   ]
  },
  {
   "cell_type": "code",
   "execution_count": null,
   "metadata": {},
   "outputs": [],
   "source": [
    "import sys\n",
    "\n",
    "sys.stdin = open('./input.txt')\n",
    "N = int(sys.stdin.readline())\n",
    "\n",
    "for i in range(N):\n",
    "    answer =''\n",
    "    H, W, N = map(int, sys.stdin.readline().split(' '))\n",
    "    r,v = divmod(N, H)\n",
    "    if v == 0:\n",
    "        x,y = H, r\n",
    "    else:\n",
    "        x,y = v, r+1\n",
    "    if y < 10:\n",
    "        answer = str(x) + '0' + str(y)\n",
    "    else:\n",
    "        answer = str(x) + str(y)\n",
    "    print(answer)"
   ]
  }
 ],
 "metadata": {
  "kernelspec": {
   "display_name": "Python 3",
   "language": "python",
   "name": "python3"
  },
  "language_info": {
   "codemirror_mode": {
    "name": "ipython",
    "version": 3
   },
   "file_extension": ".py",
   "mimetype": "text/x-python",
   "name": "python",
   "nbconvert_exporter": "python",
   "pygments_lexer": "ipython3",
   "version": "3.11.0"
  },
  "orig_nbformat": 4
 },
 "nbformat": 4,
 "nbformat_minor": 2
}
