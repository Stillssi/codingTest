{
 "cells": [
  {
   "attachments": {},
   "cell_type": "markdown",
   "metadata": {},
   "source": [
    "## #1655"
   ]
  },
  {
   "cell_type": "code",
   "execution_count": null,
   "metadata": {},
   "outputs": [],
   "source": [
    "import sys\n",
    "import heapq\n",
    "sys.stdin = open('./input.txt', 'r') #input 파일에서 입력값 읽어옴\n",
    "N = int(sys.stdin.readline()) #입력받을 개수\n",
    "\n",
    "leftheap = [] #최대힙\n",
    "rightheap = [] #최소힙 \n",
    "\n",
    "for i in range(N):\n",
    "    new = int(sys.stdin.readline()) #새로운 값 받음\n",
    "    if len(leftheap) == len(rightheap): #두개의 힙의 길이가 같으면 왼쪽에 넣어줌\n",
    "        heapq.heappush(leftheap, -new)\n",
    "    else: #두개 균형이 안맞다면 오른쪽에 넣어줌\n",
    "        heapq.heappush(rightheap, new)\n",
    "    \n",
    "    if rightheap and rightheap[0] < -leftheap[0]: #오른쪽힙이 존재하고, 오른쪽 힙의 제일 작은 수가 왼쪽 힙의 가장 큰수보다 작으면 위치 바꿔줘야함\n",
    "        leftvalue =  heapq.heappop(leftheap) #제거와 동시에 값 저장\n",
    "        rightvalue = heapq.heappop(rightheap)\n",
    "        \n",
    "        heapq.heappush(rightheap, -leftvalue) #값 부호 반대(최대힙 -> 최소힙)\n",
    "        heapq.heappush(leftheap, -rightvalue) #값 부호 반대(최소힙 -> 최대힙)\n",
    "    \n",
    "    print(-leftheap[0]) #왼쪽 힙에서 가장 큰 수 가져옴\n",
    "\n",
    "    \n",
    "        "
   ]
  }
 ],
 "metadata": {
  "kernelspec": {
   "display_name": "Python 3",
   "language": "python",
   "name": "python3"
  },
  "language_info": {
   "codemirror_mode": {
    "name": "ipython",
    "version": 3
   },
   "file_extension": ".py",
   "mimetype": "text/x-python",
   "name": "python",
   "nbconvert_exporter": "python",
   "pygments_lexer": "ipython3",
   "version": "3.11.0"
  },
  "orig_nbformat": 4
 },
 "nbformat": 4,
 "nbformat_minor": 2
}
