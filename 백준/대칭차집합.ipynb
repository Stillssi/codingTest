{
 "cells": [
  {
   "cell_type": "code",
   "execution_count": null,
   "metadata": {},
   "outputs": [],
   "source": [
    "#1269번\n",
    "\n",
    "import sys\n",
    "sys.stdin = open('./input.txt')\n",
    "\n",
    "N,M  = map(int, sys.stdin.readline().split())\n",
    "\n",
    "A = set(map(int, sys.stdin.readline().split()))\n",
    "B = set(map(int, sys.stdin.readline().split()))\n",
    "\n",
    "k = len(A&B)\n",
    "\n",
    "print(N + M - k*2)\n",
    "\n"
   ]
  }
 ],
 "metadata": {
  "kernelspec": {
   "display_name": "Python 3",
   "language": "python",
   "name": "python3"
  },
  "language_info": {
   "codemirror_mode": {
    "name": "ipython",
    "version": 3
   },
   "file_extension": ".py",
   "mimetype": "text/x-python",
   "name": "python",
   "nbconvert_exporter": "python",
   "pygments_lexer": "ipython3",
   "version": "3.11.0"
  },
  "orig_nbformat": 4
 },
 "nbformat": 4,
 "nbformat_minor": 2
}
