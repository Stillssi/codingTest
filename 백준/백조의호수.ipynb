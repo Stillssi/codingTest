{
 "cells": [
  {
   "attachments": {},
   "cell_type": "markdown",
   "metadata": {},
   "source": [
    "## #3197번 백조의 호수"
   ]
  },
  {
   "cell_type": "code",
   "execution_count": 134,
   "metadata": {},
   "outputs": [
    {
     "name": "stdout",
     "output_type": "stream",
     "text": [
      "3\n"
     ]
    }
   ],
   "source": [
    "import sys\n",
    "from collections import deque\n",
    "sys.stdin = open('./input.txt', 'r')\n",
    "\n",
    "N,M  = map(int, sys.stdin.readline().split())\n",
    "dx = [-1,1,0,0] #상하좌우\n",
    "dy = [0,0,-1,1]\n",
    "    \n",
    "def spawnq(arr,visited, spq):\n",
    "    next_dq = deque()\n",
    "    while spq:\n",
    "        x,y = spq.popleft()\n",
    "        if x == spawn[1][0] and y == spawn[1][1]:\n",
    "            return True, 0\n",
    "        for i in range(4):\n",
    "            nx = x + dx[i]\n",
    "            ny = y + dy[i]\n",
    "            if 0 <= nx < N and 0 <= ny < M and visited[nx][ny] == False:\n",
    "                visited[nx][ny] = True\n",
    "                if arr[nx][ny] == 'X':\n",
    "                    next_dq.append((nx,ny))\n",
    "                else:\n",
    "                    spq.append((nx,ny))\n",
    "    \n",
    "    return False, next_dq\n",
    "\n",
    "\n",
    "def waterq(waterdq, arr):\n",
    "    new_water = deque()\n",
    "    while waterdq:\n",
    "        x,y = waterdq.popleft()\n",
    "        for i in range(4):\n",
    "            nx = x + dx[i]\n",
    "            ny = y + dy[i]\n",
    "            if 0 <= nx < N and 0 <= ny < M and arr[nx][ny] == 'X':\n",
    "                arr[nx][ny] = '.'\n",
    "                new_water.append((nx,ny))\n",
    "    return new_water\n",
    "\n",
    "waterdq = deque()\n",
    "arr = []\n",
    "spawn = []\n",
    "ans = -1\n",
    "\n",
    "for c in range(N):\n",
    "    tmp = list(sys.stdin.readline().rstrip())\n",
    "    for i,v in enumerate(tmp):\n",
    "        if v == 'L' or v=='.':\n",
    "            waterdq.append((c,i))   \n",
    "        if v == 'L':\n",
    "            spawn.append((c,i))\n",
    "    arr.append(tmp)    \n",
    "\n",
    "spq = deque()\n",
    "spq.append((spawn[0][0], spawn[0][1]))\n",
    "visited = [[False for _ in range(M)] for _ in range(N)]\n",
    "visited[spawn[0][0]][spawn[0][1]] = True\n",
    "\n",
    "while True:\n",
    "    ans += 1\n",
    "    res, nxtq = spawnq(arr,visited, spq)\n",
    "    if(res):\n",
    "        print(ans)\n",
    "        break\n",
    "    waterdq= waterq(waterdq, arr)\n",
    "    spq = nxtq\n",
    "    "
   ]
  },
  {
   "cell_type": "code",
   "execution_count": null,
   "metadata": {},
   "outputs": [],
   "source": []
  }
 ],
 "metadata": {
  "kernelspec": {
   "display_name": "Python 3",
   "language": "python",
   "name": "python3"
  },
  "language_info": {
   "codemirror_mode": {
    "name": "ipython",
    "version": 3
   },
   "file_extension": ".py",
   "mimetype": "text/x-python",
   "name": "python",
   "nbconvert_exporter": "python",
   "pygments_lexer": "ipython3",
   "version": "3.11.0"
  },
  "orig_nbformat": 4
 },
 "nbformat": 4,
 "nbformat_minor": 2
}
