{
 "cells": [
  {
   "attachments": {},
   "cell_type": "markdown",
   "metadata": {},
   "source": [
    "## #3197번 백조의 호수"
   ]
  },
  {
   "cell_type": "code",
   "execution_count": null,
   "metadata": {},
   "outputs": [],
   "source": [
    "import sys\n",
    "from collections import deque\n",
    "sys.stdin = open('./input.txt', 'r')\n",
    "\n",
    "N,M  = map(int, sys.stdin.readline().split())\n",
    "arr = []\n",
    "spawn = []\n",
    "for i in range(N):\n",
    "    k =sys.stdin.readline().split()\n",
    "    arr.append(k)\n",
    "    for j in range(len(k[0])):\n",
    "        if k[0][j] == 'L':\n",
    "            spawn.append([i,j])\n",
    "            \n",
    "    \n",
    "print(spawn)\n",
    "    \n"
   ]
  },
  {
   "cell_type": "code",
   "execution_count": null,
   "metadata": {},
   "outputs": [],
   "source": []
  }
 ],
 "metadata": {
  "kernelspec": {
   "display_name": "Python 3",
   "language": "python",
   "name": "python3"
  },
  "language_info": {
   "codemirror_mode": {
    "name": "ipython",
    "version": 3
   },
   "file_extension": ".py",
   "mimetype": "text/x-python",
   "name": "python",
   "nbconvert_exporter": "python",
   "pygments_lexer": "ipython3",
   "version": "3.11.0"
  },
  "orig_nbformat": 4
 },
 "nbformat": 4,
 "nbformat_minor": 2
}
