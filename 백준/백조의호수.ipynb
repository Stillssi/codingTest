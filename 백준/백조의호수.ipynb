{
 "cells": [
  {
   "attachments": {},
   "cell_type": "markdown",
   "metadata": {},
   "source": [
    "## #3197번 백조의 호수"
   ]
  },
  {
   "cell_type": "code",
   "execution_count": null,
   "metadata": {},
   "outputs": [],
   "source": [
    "import sys\n",
    "from collections import deque\n",
    "sys.stdin = open('./input.txt', 'r')\n",
    "\n",
    "N,M  = map(int, sys.stdin.readline().split())\n",
    "dx = [-1,1,0,0] #상하좌우\n",
    "dy = [0,0,-1,1]\n",
    "    \n",
    "def spawnq(arr,visited, spq):\n",
    "    next_dq = deque() #얼음으로 막힌 부분에 대한 큐(다음에 돌릴 큐)\n",
    "    while spq:\n",
    "        x,y = spq.popleft() \n",
    "        if x == spawn[1][0] and y == spawn[1][1]: #두번쨰 백조의 위치에 오면 리턴\n",
    "            return True, 0\n",
    "        for i in range(4):\n",
    "            nx = x + dx[i] #상하죄우\n",
    "            ny = y + dy[i]\n",
    "            if 0 <= nx < N and 0 <= ny < M and visited[nx][ny] == False: \n",
    "                visited[nx][ny] = True\n",
    "                if arr[nx][ny] == 'X': #얼음을 만났다면\n",
    "                    next_dq.append((nx,ny)) #next_dq에 넣어줌\n",
    "                else:\n",
    "                    spq.append((nx,ny)) #물이라면 기존 큐에 넣어줌(더 나아갈 수 있음)\n",
    "    \n",
    "    return False, next_dq #다음에 돌릴 큐 리턴\n",
    "\n",
    "\n",
    "def waterq(waterdq, arr):\n",
    "    new_water = deque() #얼음이 물로 바뀐 위치 큐 (다음에 돌릴 큐)\n",
    "    while waterdq:\n",
    "        x,y = waterdq.popleft() \n",
    "        for i in range(4):\n",
    "            nx = x + dx[i]\n",
    "            ny = y + dy[i]\n",
    "            if 0 <= nx < N and 0 <= ny < M and arr[nx][ny] == 'X': #현재 위치(물)에서 상하좌우를 했을때 얼음을 만난다면\n",
    "                arr[nx][ny] = '.' #얼음을 물로 바꿔주고\n",
    "                new_water.append((nx,ny)) #새롭게 생겨난 부분이니까 new_water에 넣어줌\n",
    "    return new_water #다음에 돌릴 큐 리턴\n",
    "\n",
    "waterdq = deque() #물 큐\n",
    "arr = [] #호수맵\n",
    "spawn = [] #백조 위치\n",
    "ans = -1\n",
    "\n",
    "for c in range(N):\n",
    "    tmp = list(sys.stdin.readline().rstrip())\n",
    "    for i,v in enumerate(tmp):\n",
    "        if v == 'L' or v=='.': #백조이거나 물이면 물 큐에 넣어줌\n",
    "            waterdq.append((c,i))   \n",
    "        if v == 'L':\n",
    "            spawn.append((c,i)) #백조라면 그 위치를 백조 리스트에 넣어줌\n",
    "    arr.append(tmp)    \n",
    "\n",
    "spq = deque() #백조 큐(얼음에 막힌 위치가 들어옴)\n",
    "spq.append((spawn[0][0], spawn[0][1])) #첫번째 백조 위치 넣어줌\n",
    "visited = [[False for _ in range(M)] for _ in range(N)] #방문 여부 확인 리스트\n",
    "visited[spawn[0][0]][spawn[0][1]] = True #첫번째 백조 위치 방문 True\n",
    "\n",
    "while True:\n",
    "    ans += 1 #하루가 지남\n",
    "    res, nxtq = spawnq(arr,visited, spq) \n",
    "    if(res):\n",
    "        print(ans)\n",
    "        break\n",
    "    waterdq= waterq(waterdq, arr)\n",
    "    spq = nxtq\n",
    "    "
   ]
  }
 ],
 "metadata": {
  "kernelspec": {
   "display_name": "Python 3",
   "language": "python",
   "name": "python3"
  },
  "language_info": {
   "codemirror_mode": {
    "name": "ipython",
    "version": 3
   },
   "file_extension": ".py",
   "mimetype": "text/x-python",
   "name": "python",
   "nbconvert_exporter": "python",
   "pygments_lexer": "ipython3",
   "version": "3.11.0"
  },
  "orig_nbformat": 4
 },
 "nbformat": 4,
 "nbformat_minor": 2
}
