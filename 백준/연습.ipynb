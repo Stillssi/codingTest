{
 "cells": [
  {
   "cell_type": "code",
   "execution_count": null,
   "metadata": {},
   "outputs": [],
   "source": [
    "print('Hello world')"
   ]
  },
  {
   "cell_type": "code",
   "execution_count": null,
   "metadata": {},
   "outputs": [],
   "source": [
    "import datetime\n",
    "x = datetime.datetime.now()\n",
    "print(x.strftime(\"%Y-%m-%d\"))\n"
   ]
  },
  {
   "cell_type": "code",
   "execution_count": null,
   "metadata": {},
   "outputs": [],
   "source": []
  },
  {
   "cell_type": "code",
   "execution_count": null,
   "metadata": {},
   "outputs": [],
   "source": [
    "print('         ,r\\'\\\"7')\n",
    "print('r`-_   ,\\'  ,/')\n",
    "print(' \\\\. \". L_r\\'')\n",
    "print('   `~\\\\/')\n",
    "print('      |')\n",
    "print('      |')"
   ]
  },
  {
   "cell_type": "code",
   "execution_count": null,
   "metadata": {},
   "outputs": [],
   "source": [
    "print('|\\\\_/|')\n",
    "print('|q p|   /}')\n",
    "print('( 0 )\\\"\\\"\\\"\\\\')\n",
    "print('|\\\"^\\\"`    |')\n",
    "print('||_/=\\\\\\\\__|')"
   ]
  },
  {
   "cell_type": "code",
   "execution_count": null,
   "metadata": {},
   "outputs": [],
   "source": [
    "print(\"\\\\    /\\\\\")\n",
    "print(\" )  ( \\')\")\n",
    "print(\"(  /  )\")\n",
    "print(\" \\\\(__)|\")\n"
   ]
  },
  {
   "cell_type": "code",
   "execution_count": null,
   "metadata": {},
   "outputs": [],
   "source": [
    "import sys\n",
    "\n",
    "N,M  = map(int, sys.stdin.readline().split())\n",
    "\n",
    "print(abs(N-M))"
   ]
  },
  {
   "cell_type": "code",
   "execution_count": null,
   "metadata": {},
   "outputs": [],
   "source": [
    "import sys\n",
    "\n",
    "def factorial(n):\n",
    "    if n==0:\n",
    "        return 1\n",
    "    return n * factorial(n-1)\n",
    "\n",
    "N = int(input())\n",
    "# N= int(sys.stdin.readline())\n",
    "print(factorial(N))"
   ]
  },
  {
   "cell_type": "code",
   "execution_count": null,
   "metadata": {},
   "outputs": [],
   "source": [
    "import sys\n",
    "\n",
    "sys.stdin = open('./input.txt')\n",
    "K = int(sys.stdin.readline())\n",
    "\n",
    "for i in range(0,K):\n",
    "   N, M  = map(int, sys.stdin.readline().split())\n",
    "   print(N + M)\n"
   ]
  },
  {
   "cell_type": "code",
   "execution_count": null,
   "metadata": {},
   "outputs": [],
   "source": [
    "import sys\n",
    "\n",
    "sys.stdin = open('./input.txt')\n",
    "N = int(sys.stdin.readline())\n",
    "\n",
    "for i in range(1, N+1):\n",
    "    k = '*'\n",
    "    print(k*i)\n",
    "\n"
   ]
  },
  {
   "cell_type": "code",
   "execution_count": null,
   "metadata": {},
   "outputs": [],
   "source": [
    "import sys\n",
    "\n",
    "sys.stdin = open('./input.txt')\n",
    "N, X  = map(int, sys.stdin.readline().split())\n",
    "\n",
    "K = list(map(int, sys.stdin.readline().split()))\n",
    "\n",
    "for i in K:\n",
    "    if i < X:\n",
    "        print(i, end=\" \")\n",
    "    \n",
    "\n",
    "\n",
    "\n"
   ]
  },
  {
   "cell_type": "code",
   "execution_count": null,
   "metadata": {},
   "outputs": [],
   "source": [
    "import sys\n",
    "\n",
    "sys.stdin = open('./input.txt')\n",
    "N= int(sys.stdin.readline())\n",
    "K = list(map(int, sys.stdin.readline().split()))\n",
    "v = int(sys.stdin.readline())\n",
    "cnt = 0\n",
    "for i in K:\n",
    "    if i == v:\n",
    "        cnt += 1\n",
    "        \n",
    "print(cnt)"
   ]
  },
  {
   "cell_type": "code",
   "execution_count": null,
   "metadata": {},
   "outputs": [],
   "source": [
    "import sys\n",
    "sys.stdin = open('./input.txt')\n",
    "\n",
    "k = [0]*31\n",
    "cnt = 0\n",
    "for i in range(0,28):\n",
    "    n = int(sys.stdin.readline())\n",
    "    k[n] =1\n",
    "\n",
    "for i in range(1, len(k)):\n",
    "    if k[i] == 0:\n",
    "        print(i)\n",
    "        cnt += 1\n",
    "    if cnt == 2:\n",
    "        break\n",
    "\n"
   ]
  },
  {
   "cell_type": "code",
   "execution_count": null,
   "metadata": {},
   "outputs": [],
   "source": [
    "import sys\n",
    "sys.stdin = open('./input.txt')\n",
    "N,M = map(int, sys.stdin.readline().split())\n",
    "\n",
    "A,B = [],[]\n",
    "\n",
    "for i in range(N*2):\n",
    "    tmp = list(map(int, sys.stdin.readline().split()))\n",
    "    if i < N:\n",
    "        A.append(tmp)\n",
    "    else:\n",
    "        B.append(tmp)\n",
    "\n",
    "for i in range(0,N):\n",
    "    for j in range(0,M):\n",
    "        print(A[i][j] + B[i][j], end=\" \")\n",
    "    print()\n"
   ]
  },
  {
   "cell_type": "code",
   "execution_count": null,
   "metadata": {},
   "outputs": [],
   "source": [
    "import sys\n",
    "sys.stdin = open('./input.txt')\n",
    "N= sys.stdin.readline().rstrip()\n",
    "print(ord(N))"
   ]
  },
  {
   "cell_type": "code",
   "execution_count": null,
   "metadata": {},
   "outputs": [],
   "source": [
    "import sys\n",
    "sys.stdin = open('./input.txt')\n",
    "N= sys.stdin.readline().rstrip()\n",
    "print(N)\n",
    "\n",
    "for i in N:\n",
    "    if i.isupper():\n",
    "        print(i.lower(), end=\"\")\n",
    "    else:\n",
    "        print(i.upper(), end=\"\")"
   ]
  },
  {
   "cell_type": "code",
   "execution_count": null,
   "metadata": {},
   "outputs": [],
   "source": [
    "import sys\n",
    "sys.stdin = open('./input.txt')\n",
    "N= sys.stdin.readline().rstrip()\n",
    "\n",
    "score_main = {'A': 4.0, 'B':3.0, 'C':2.0, 'D':1.0, 'F':0.0}\n",
    "score_sub = {'+': 0.3, '0': 0, '-': -0.3}\n",
    "\n",
    "if N[0] != 'F':\n",
    "    print(score_main[N[0]] + score_sub[N[1]])\n",
    "else:\n",
    "    print(score_main[N[0]])\n",
    "    \n",
    "    "
   ]
  },
  {
   "cell_type": "code",
   "execution_count": null,
   "metadata": {},
   "outputs": [],
   "source": [
    "import sys\n",
    "sys.stdin = open('./input.txt')\n",
    "N= sys.stdin.readline().rstrip()\n",
    "M = int(sys.stdin.readline())\n",
    "\n",
    "print(N[M-1])"
   ]
  },
  {
   "cell_type": "code",
   "execution_count": null,
   "metadata": {},
   "outputs": [],
   "source": [
    "import sys\n",
    "sys.stdin = open('./input.txt')\n",
    "\n",
    "strings = sys.stdin.readlines()\n",
    "\n",
    "for i in strings:\n",
    "    print(i.rstrip())"
   ]
  },
  {
   "cell_type": "code",
   "execution_count": null,
   "metadata": {},
   "outputs": [],
   "source": [
    "import sys\n",
    "sys.stdin = open('./input.txt')\n",
    "\n",
    "N = int(sys.stdin.readline())\n",
    "for i in range(N):\n",
    "    l = sys.stdin.readline().rstrip()\n",
    "    print(l[0]+l[-1])"
   ]
  },
  {
   "cell_type": "code",
   "execution_count": null,
   "metadata": {},
   "outputs": [],
   "source": [
    "import sys\n",
    "sys.stdin = open('./input.txt')\n",
    "\n",
    "A,B = map(int, sys.stdin.readline().split())\n",
    "print((A+B)*(A-B))"
   ]
  },
  {
   "cell_type": "code",
   "execution_count": null,
   "metadata": {},
   "outputs": [],
   "source": [
    "import sys\n",
    "sys.stdin = open('./input.txt')\n",
    "N = list(map(int, sys.stdin.readline().split()))\n",
    "tmp = 0\n",
    "for i in N:\n",
    "    tmp += i*i\n",
    "print(tmp%10)\n",
    "    \n",
    "\n"
   ]
  },
  {
   "cell_type": "code",
   "execution_count": null,
   "metadata": {},
   "outputs": [],
   "source": []
  }
 ],
 "metadata": {
  "kernelspec": {
   "display_name": "Python 3",
   "language": "python",
   "name": "python3"
  },
  "language_info": {
   "codemirror_mode": {
    "name": "ipython",
    "version": 3
   },
   "file_extension": ".py",
   "mimetype": "text/x-python",
   "name": "python",
   "nbconvert_exporter": "python",
   "pygments_lexer": "ipython3",
   "version": "3.11.0"
  },
  "orig_nbformat": 4
 },
 "nbformat": 4,
 "nbformat_minor": 2
}
