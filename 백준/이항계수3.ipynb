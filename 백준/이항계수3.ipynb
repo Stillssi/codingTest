{
 "cells": [
  {
   "attachments": {},
   "cell_type": "markdown",
   "metadata": {},
   "source": [
    "### #11401 이항계수3"
   ]
  },
  {
   "cell_type": "code",
   "execution_count": 16,
   "metadata": {},
   "outputs": [
    {
     "name": "stdout",
     "output_type": "stream",
     "text": [
      "10\n"
     ]
    }
   ],
   "source": [
    "import sys\n",
    "\n",
    "sys.stdin = open('./input.txt', 'r')\n",
    "\n",
    "N, K = map(int, input().split())\n",
    "p = 1000000007\n",
    "\n",
    "arr = [[0 for _ in range(K+1)] for _ in range(N+1)]\n",
    "\n",
    "def cef(N, K):\n",
    "    if K == 0 or N==K:\n",
    "        arr[N][K] = 1\n",
    "    if K == 1:\n",
    "        arr[N][K] = N\n",
    "    \n",
    "    if arr[N][K] == 0:\n",
    "        arr[N][K] = cef(N-1, K) + cef(N-1, K-1)\n",
    "    \n",
    "    return arr[N][K]\n",
    "\n",
    "ans = cef(N,K)\n",
    "print(ans%p)"
   ]
  },
  {
   "cell_type": "code",
   "execution_count": 30,
   "metadata": {},
   "outputs": [
    {
     "name": "stdout",
     "output_type": "stream",
     "text": [
      "10\n"
     ]
    }
   ],
   "source": [
    "import sys\n",
    "\n",
    "sys.stdin = open('./input.txt', 'r')\n",
    "\n",
    "N, K = map(int, sys.stdin.readline().split())\n",
    "p = 1000000007\n",
    "\n",
    "def factorial(N):\n",
    "    n = 1\n",
    "    for i in range(2, N+1):\n",
    "        n = (n * i) % p \n",
    "    return n\n",
    "\n",
    "def square(n, k):\n",
    "    if k == 0:\n",
    "        return 1\n",
    "    elif k == 1:\n",
    "        return n\n",
    "    \n",
    "    tmp = square(n, k//2)\n",
    "    \n",
    "    if k % 2:\n",
    "        return tmp * tmp * n % p\n",
    "    else:\n",
    "        return tmp * tmp % p\n",
    "    \n",
    "# 페르마의 소정리 이용해서 조합 공식 곱셈 형태로 변형\n",
    "print(factorial(N) * square(factorial(N-K) * factorial(K) % p, p-2) % p)"
   ]
  },
  {
   "cell_type": "code",
   "execution_count": null,
   "metadata": {},
   "outputs": [],
   "source": []
  }
 ],
 "metadata": {
  "kernelspec": {
   "display_name": "Python 3",
   "language": "python",
   "name": "python3"
  },
  "language_info": {
   "codemirror_mode": {
    "name": "ipython",
    "version": 3
   },
   "file_extension": ".py",
   "mimetype": "text/x-python",
   "name": "python",
   "nbconvert_exporter": "python",
   "pygments_lexer": "ipython3",
   "version": "3.11.0"
  },
  "orig_nbformat": 4
 },
 "nbformat": 4,
 "nbformat_minor": 2
}
