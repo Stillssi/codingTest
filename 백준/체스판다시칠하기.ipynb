{
 "cells": [
  {
   "cell_type": "code",
   "execution_count": null,
   "metadata": {},
   "outputs": [],
   "source": [
    "import sys\n",
    "\n",
    "sys.stdin = open('./input.txt')\n",
    "num_rows, num_cols = map(int, sys.stdin.readline().split())\n",
    "chessboard = []\n",
    "\n",
    "for _ in range(num_rows):\n",
    "    chessboard.append(sys.stdin.readline().strip())\n",
    "\n",
    "min_changes = []\n",
    "\n",
    "for row in range(num_rows-7):\n",
    "    for col in range(num_cols-7):\n",
    "        num_changes_starting_with_B = 0\n",
    "        num_changes_starting_with_W = 0\n",
    "\n",
    "        for sub_row in range(row, row+8):\n",
    "            for sub_col in range(col, col+8):\n",
    "                if (sub_row + sub_col) % 2 == 0:\n",
    "                    if chessboard[sub_row][sub_col] != 'B':\n",
    "                        num_changes_starting_with_B += 1\n",
    "                    if chessboard[sub_row][sub_col] != 'W':\n",
    "                        num_changes_starting_with_W += 1\n",
    "                else:\n",
    "                    if chessboard[sub_row][sub_col] != 'W':\n",
    "                        num_changes_starting_with_B += 1\n",
    "                    if chessboard[sub_row][sub_col] != 'B':\n",
    "                        num_changes_starting_with_W += 1\n",
    "\n",
    "        min_changes.append(num_changes_starting_with_B)\n",
    "        min_changes.append(num_changes_starting_with_W)\n",
    "\n",
    "print(min(min_changes))\n"
   ]
  }
 ],
 "metadata": {
  "kernelspec": {
   "display_name": "Python 3",
   "language": "python",
   "name": "python3"
  },
  "language_info": {
   "codemirror_mode": {
    "name": "ipython",
    "version": 3
   },
   "file_extension": ".py",
   "mimetype": "text/x-python",
   "name": "python",
   "nbconvert_exporter": "python",
   "pygments_lexer": "ipython3",
   "version": "3.11.0"
  },
  "orig_nbformat": 4
 },
 "nbformat": 4,
 "nbformat_minor": 2
}
