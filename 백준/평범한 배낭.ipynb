{
 "cells": [
  {
   "attachments": {},
   "cell_type": "markdown",
   "metadata": {},
   "source": [
    "- 물건: N개  \n",
    "- 물건 무게 W, 가치 V\n",
    "- 버틸 수 있는 무게: K\n",
    "\n",
    "=> 배낭에 넣을 수 있는 물건들의 가치의 최댓값"
   ]
  },
  {
   "cell_type": "code",
   "execution_count": 7,
   "metadata": {},
   "outputs": [
    {
     "name": "stdout",
     "output_type": "stream",
     "text": [
      "14\n"
     ]
    }
   ],
   "source": [
    "import sys\n",
    "\n",
    "sys.stdin = open('./input.txt', 'r')\n",
    "\n",
    "N,K = map(int, sys.stdin.readline().split()) #물건 개수, 버틸 수 있는 무게\n",
    "ans = 0\n",
    "thing = [[0,0]]\n",
    "dp = [[0] * (K+1) for _ in range(N+1)]\n",
    "for i in range(N):\n",
    "    thing.append(list(map(int, sys.stdin.readline().split())))\n",
    "    \n",
    "    \n",
    "thing = sorted(thing, key=lambda x: x[0])\n",
    "for i in range(1, N+1):\n",
    "    for j in range(1, K+1):\n",
    "        w = thing[i][0] #무게\n",
    "        v = thing[i][1] #가치\n",
    "        if j < w:\n",
    "            dp[i][j] = dp[i-1][j]\n",
    "        else:\n",
    "            dp[i][j] = max(dp[i-1][j], dp[i-1][j-w] + v)\n",
    "\n",
    "print(dp[N][K])"
   ]
  }
 ],
 "metadata": {
  "kernelspec": {
   "display_name": "Python 3",
   "language": "python",
   "name": "python3"
  },
  "language_info": {
   "codemirror_mode": {
    "name": "ipython",
    "version": 3
   },
   "file_extension": ".py",
   "mimetype": "text/x-python",
   "name": "python",
   "nbconvert_exporter": "python",
   "pygments_lexer": "ipython3",
   "version": "3.11.0"
  },
  "orig_nbformat": 4
 },
 "nbformat": 4,
 "nbformat_minor": 2
}
