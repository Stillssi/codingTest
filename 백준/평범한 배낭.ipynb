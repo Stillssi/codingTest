{
 "cells": [
  {
   "attachments": {},
   "cell_type": "markdown",
   "metadata": {},
   "source": [
    "- 물건: N개  \n",
    "- 물건 무게 W, 가치 V\n",
    "- 버틸 수 있는 무게: K\n",
    "\n",
    "=> 배낭에 넣을 수 있는 물건들의 가치의 최댓값"
   ]
  },
  {
   "cell_type": "code",
   "execution_count": 18,
   "metadata": {},
   "outputs": [
    {
     "name": "stdout",
     "output_type": "stream",
     "text": [
      "14\n"
     ]
    }
   ],
   "source": [
    "import sys\n",
    "\n",
    "sys.stdin = open('./input.txt', 'r')\n",
    "\n",
    "N,K = map(int, sys.stdin.readline().split()) #물건 개수, 버틸 수 있는 무게\n",
    "ans = 0\n",
    "thing = []\n",
    "for i in range(N):\n",
    "    thing.append(list(map(int, sys.stdin.readline().split())))\n",
    "    \n",
    "    \n",
    "thing = sorted(thing, key=lambda x: x[0])\n",
    "\n",
    "for i in range(len(thing)):\n",
    "    ans += thing[i][1]\n",
    "    K -= thing[i][0]\n",
    "    if K < 0:\n",
    "        ans -= thing[i][1]\n",
    "        break\n",
    "\n",
    "\n",
    "\n",
    "print(ans)"
   ]
  },
  {
   "cell_type": "code",
   "execution_count": null,
   "metadata": {},
   "outputs": [],
   "source": []
  }
 ],
 "metadata": {
  "kernelspec": {
   "display_name": "Python 3",
   "language": "python",
   "name": "python3"
  },
  "language_info": {
   "codemirror_mode": {
    "name": "ipython",
    "version": 3
   },
   "file_extension": ".py",
   "mimetype": "text/x-python",
   "name": "python",
   "nbconvert_exporter": "python",
   "pygments_lexer": "ipython3",
   "version": "3.11.0"
  },
  "orig_nbformat": 4
 },
 "nbformat": 4,
 "nbformat_minor": 2
}
