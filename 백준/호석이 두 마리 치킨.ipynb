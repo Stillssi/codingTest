{
 "cells": [
  {
   "attachments": {},
   "cell_type": "markdown",
   "metadata": {},
   "source": [
    "도시 안에 2개의 매장을 지으려고 한다.   \n",
    "도시는 N 개의 건물과 M 개의 도로로 이루어져 있다.   \n",
    "건물은 1번부터 N번의 번호를 가지고 있다.   \n",
    "i 번째 도로는 서로 다른 두 건물 Ai 번과 Bi 번 사이를 1 시간에 양방향으로 이동할 수 있는 도로이다.  \n",
    "\n",
    "키친 도시에서 2개의 건물을 골라서 치킨집을 열려고 한다.   \n",
    "접근성의 합을 최소화하려고 한다.   \n",
    "건물 X 의 접근성은 X 에서 가장 가까운 호석이 두마리 치킨집까지 왕복하는 최단 시간이다.   \n",
    "즉, \"모든 건물에서 가장 가까운 치킨집까지 왕복하는 최단 시간의 총합\"을 최소화할 수 있는 건물 2개를 골라서 치킨집을 열려고 하는 것이다.  \n",
    "만약 이러한 건물 조합이 여러 개라면, 건물 번호 중 작은 게 더 작을수록, 작은 번호가 같다면 큰 번호가 더 작을수록 좋은 건물 조합이다.  "
   ]
  },
  {
   "cell_type": "code",
   "execution_count": null,
   "metadata": {},
   "outputs": [],
   "source": [
    "import sys\n",
    "from itertools import combinations\n",
    "\n",
    "sys.stdin = open('./input.txt')\n",
    "\n",
    "N,M = map(int, sys.stdin.readline().split())\n",
    "\n",
    "Map = [[float(\"inf\") if i != j else 0 for i in range(N)] for j in range(N)]\n",
    "\n",
    "for i in range(M):\n",
    "    t, s = map(int, sys.stdin.readline().split())\n",
    "    Map[t-1][s-1] = 1\n",
    "    Map[s-1][t-1] = 1\n",
    "\n",
    "#거쳐가는 노드\n",
    "for k in range(N):\n",
    "    #출발노드\n",
    "    for i in range(N):\n",
    "        #도착노드\n",
    "        for j in range(N):\n",
    "            if(Map[i][k] + Map[k][j] < Map[i][j]):\n",
    "                #거쳐가는 노드가 더 짧다면\n",
    "                Map[i][j] = Map[i][k] + Map[k][j]\n",
    "\n",
    "sum = float('inf')\n",
    "for comb in combinations([i for i in range(N)],2):\n",
    "    temp = 0\n",
    "    for i in range(N):\n",
    "        temp += min(Map[comb[0]][i], Map[comb[1]][i])\n",
    "    if temp < sum:\n",
    "        sum = temp\n",
    "        point1 = comb[0]+1\n",
    "        point2 = comb[1]+1\n",
    "\n",
    "print(point1, point2, sum*2)\n",
    "        "
   ]
  }
 ],
 "metadata": {
  "kernelspec": {
   "display_name": "Python 3",
   "language": "python",
   "name": "python3"
  },
  "language_info": {
   "codemirror_mode": {
    "name": "ipython",
    "version": 3
   },
   "file_extension": ".py",
   "mimetype": "text/x-python",
   "name": "python",
   "nbconvert_exporter": "python",
   "pygments_lexer": "ipython3",
   "version": "3.11.0"
  },
  "orig_nbformat": 4
 },
 "nbformat": 4,
 "nbformat_minor": 2
}
