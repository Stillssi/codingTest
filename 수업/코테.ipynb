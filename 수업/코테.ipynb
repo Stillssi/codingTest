{
 "cells": [
  {
   "cell_type": "code",
   "execution_count": null,
   "metadata": {},
   "outputs": [],
   "source": [
    "def solution(s):\n",
    "    # answer =[i.title() for i in s.split(' ')]\n",
    "    print(s.split(' '))\n",
    "    answer = ' '.join(map(lambda s: s[0].upper() + s[1:].lower() if s else s, s.split(' ')))\n",
    "\n",
    "    print(answer)\n",
    "\n",
    "\n",
    "solution(\"aa a \")"
   ]
  },
  {
   "cell_type": "code",
   "execution_count": null,
   "metadata": {},
   "outputs": [],
   "source": [
    "def solution(n):\n",
    "    answer = ''\n",
    "    #3진법\n",
    "    number_dict ={\n",
    "        1 : '1',\n",
    "        2: '2',\n",
    "        0: '4'\n",
    "    }\n",
    "    while n!=0:\n",
    "        reminders = n%3\n",
    "        answer = number_dict[reminders]+ answer\n",
    "        if n%3 == 0:\n",
    "            n = n//3 - 1\n",
    "        else:\n",
    "            n = n//3\n",
    "            \n",
    "    return answer\n",
    "\n",
    "solution(10)"
   ]
  },
  {
   "cell_type": "code",
   "execution_count": null,
   "metadata": {},
   "outputs": [],
   "source": [
    "def solution(id_list,report,k):\n",
    "    answer =[]\n",
    "    report_info = {}\n",
    "    mail_info = {}\n",
    "\n",
    "    for user in id_list:\n",
    "        report_info[user] = set()\n",
    "        mail_info[user] = 0\n",
    "\n",
    "    \n",
    "    for report_detail in report:\n",
    "        신고한, 신고당한 = report_detail.split()\n",
    "        report_info[신고당한].add(신고한)\n",
    "\n",
    "    for key in report_info:\n",
    "        if len(report_info[key]) >= k:\n",
    "            for user in report_info[key]:\n",
    "                mail_info[user]+=1\n",
    "\n",
    "    for user in id_list:\n",
    "        answer.append(mail_info[user])\n",
    "    \n",
    "    return answer\n",
    "solution(\t[\"muzi\", \"frodo\", \"apeach\", \"neo\"], [\"muzi frodo\", \"apeach frodo\", \"frodo neo\", \"muzi neo\", \"apeach muzi\"], 2)"
   ]
  },
  {
   "cell_type": "code",
   "execution_count": null,
   "metadata": {},
   "outputs": [],
   "source": [
    "def solution(lottos, win_nums):\n",
    "    win_dict = {6:1,5:2,4:3,3:4,2:5,1:6, 0:6}\n",
    "    answer =[]\n",
    "    cnt = 0\n",
    "    for i in lottos:\n",
    "        if i in win_nums:\n",
    "            cnt += 1\n",
    "        \n",
    "    up = cnt + lottos.count(0)\n",
    "    down = cnt\n",
    "    answer.append(win_dict[up])\n",
    "    answer.append(win_dict[down])\n",
    "    return answer\n",
    "\n",
    "solution([44, 1, 0, 0, 31, 25],[31, 10, 45, 1, 6, 19])"
   ]
  },
  {
   "cell_type": "code",
   "execution_count": null,
   "metadata": {},
   "outputs": [],
   "source": [
    "def solution(id_list,report,k):\n",
    "    rep_dict = {}\n",
    "    mail_dict = {}\n",
    "    answer = []\n",
    "    for i in id_list:\n",
    "        rep_dict[i] = set()\n",
    "        mail_dict[i] = 0\n",
    "\n",
    "    for i in report:\n",
    "        e, ed = i.split(' ')\n",
    "        rep_dict[ed].add(e)\n",
    "    \n",
    "    for key in rep_dict:\n",
    "        if len(rep_dict[key]) >= k:\n",
    "            for user in rep_dict[key]:\n",
    "                mail_dict[user] += 1\n",
    "    \n",
    "    for user in mail_dict:\n",
    "        answer.append(mail_dict[user])\n",
    "\n",
    "    return answer\n",
    "    # for \n",
    "solution([\"muzi\", \"frodo\", \"apeach\", \"neo\"],[\"muzi frodo\",\"apeach frodo\",\"frodo neo\",\"muzi neo\",\"apeach muzi\"],2 )"
   ]
  },
  {
   "cell_type": "code",
   "execution_count": null,
   "metadata": {},
   "outputs": [],
   "source": [
    "def "
   ]
  }
 ],
 "metadata": {
  "kernelspec": {
   "display_name": "Python 3",
   "language": "python",
   "name": "python3"
  },
  "language_info": {
   "codemirror_mode": {
    "name": "ipython",
    "version": 3
   },
   "file_extension": ".py",
   "mimetype": "text/x-python",
   "name": "python",
   "nbconvert_exporter": "python",
   "pygments_lexer": "ipython3",
   "version": "3.11.0 (v3.11.0:deaf509e8f, Oct 24 2022, 14:43:23) [Clang 13.0.0 (clang-1300.0.29.30)]"
  },
  "orig_nbformat": 4,
  "vscode": {
   "interpreter": {
    "hash": "949777d72b0d2535278d3dc13498b2535136f6dfe0678499012e853ee9abcab1"
   }
  }
 },
 "nbformat": 4,
 "nbformat_minor": 2
}
