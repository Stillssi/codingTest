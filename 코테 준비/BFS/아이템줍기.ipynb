{
 "cells": [
  {
   "cell_type": "code",
   "execution_count": null,
   "metadata": {},
   "outputs": [],
   "source": [
    "from collections import deque\n",
    "def solution(rectangle, characterX, characterY, itemX, itemY):\n",
    "    answer = 0\n",
    "    count = 0\n",
    "    dx = [0,0,-1,1] #상하좌우\n",
    "    dy = [1,-1,0,0]\n",
    "    visited = [[False for _ in range(101)] for _ in range(101)]\n",
    "    \n",
    "    for i in range(len(rectangle)):\n",
    "        for j in range(len(rectangle[i])):\n",
    "            rectangle[i][j] *= 2\n",
    "\n",
    "    itemX *=2\n",
    "    itemY *= 2\n",
    "    characterX *= 2\n",
    "    characterY *=2\n",
    "    \n",
    "    for i in rectangle:\n",
    "        for j in range(i[0],i[2]+1):\n",
    "            visited[j][i[1]] = True #하단 가로변\n",
    "            visited[j][i[3]] = True\n",
    "\n",
    "        for k in range(i[1], i[3]+1):\n",
    "            visited[i[2]][k] = True\n",
    "            visited[i[0]][k] = True\n",
    "\n",
    "    for i in rectangle:\n",
    "        for x in range(i[0]+1, i[2]):\n",
    "            for y in range(i[1]+1, i[3]):\n",
    "                if visited[x][y] == True:\n",
    "                    visited[x][y] = False\n",
    "        \n",
    "    visited[characterX][characterY] = False\n",
    "    dq = deque([(characterX, characterY, count)])\n",
    "    \n",
    "    while dq:\n",
    "        x,y,count = dq.popleft()\n",
    "        for i in range(4):\n",
    "            nx = x+dx[i]\n",
    "            ny = y+dy[i]\n",
    "            if visited[nx][ny] == True and nx >= 0 and ny >= 0 and nx <= 100 and ny <= 100:\n",
    "                if nx == itemX and ny == itemY:\n",
    "                    return (count+1)//2\n",
    "                visited[nx][ny] = False\n",
    "                dq.append((nx, ny, count+1))\n",
    "                \n",
    "    \n",
    "    return answer\n",
    "\n",
    "\n",
    "solution([[1, 1, 7, 4], [3, 2, 5, 5], [4, 3, 6, 9], [2, 6, 8, 8]], 1, 3, 7, 8) \n",
    "#[좌측 하단 x, 좌측 하단 y, 우측 상단 x, 우측 상단 y]\n",
    "#캐릭터 X좌표, Y좌표\n",
    "#아이템 X좌표, Y좌표"
   ]
  }
 ],
 "metadata": {
  "kernelspec": {
   "display_name": "Python 3",
   "language": "python",
   "name": "python3"
  },
  "language_info": {
   "codemirror_mode": {
    "name": "ipython",
    "version": 3
   },
   "file_extension": ".py",
   "mimetype": "text/x-python",
   "name": "python",
   "nbconvert_exporter": "python",
   "pygments_lexer": "ipython3",
   "version": "3.11.0"
  },
  "orig_nbformat": 4
 },
 "nbformat": 4,
 "nbformat_minor": 2
}
