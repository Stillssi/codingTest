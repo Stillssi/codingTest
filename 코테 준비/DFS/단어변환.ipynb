{
 "cells": [
  {
   "cell_type": "code",
   "execution_count": null,
   "metadata": {},
   "outputs": [],
   "source": [
    "from collections import deque\n",
    "def solution(begin, target, words):\n",
    "    answer = 0\n",
    "    visited = [False for _ in range(len(words))]\n",
    "    trg_id = list(words).index(target)\n",
    "    dq = deque([(begin, 0)])\n",
    "    while dq:\n",
    "        wd, count = dq.popleft()\n",
    "        print(wd, count, visited)\n",
    "        if visited[trg_id] == True:\n",
    "            return count\n",
    "        for i in range(len(words)):\n",
    "            if visited[i] == False and len(list(set(words[i]) - set(wd))) == 1:\n",
    "                visited[i] = True\n",
    "                dq.append((words[i], count + 1))\n",
    "                \n",
    "    return answer\n",
    "\n",
    "solution(\"hit\",\"cog\",[\"hot\", \"dot\", \"dog\", \"lot\", \"log\", \"cog\"])"
   ]
  },
  {
   "cell_type": "code",
   "execution_count": null,
   "metadata": {},
   "outputs": [],
   "source": [
    "from collections import deque\n",
    "\n",
    "def solution(begin, target, words):\n",
    "    answer = 0\n",
    "    visited = [False for _ in range(len(words))]\n",
    "    dq = deque([(begin, 0)]) #시작 위치와 카운트 dq에 넣어줌\n",
    "    while dq:\n",
    "        wd, count = dq.popleft()\n",
    "        if wd == target:\n",
    "            answer = count\n",
    "        for i in range(len(words)):\n",
    "            if visited[i] == False and diff_str(words[i], wd):\n",
    "                visited[i] = True\n",
    "                dq.append((words[i], count + 1))\n",
    "    return answer\n",
    "\n",
    "def diff_str(str1, str2):\n",
    "    count = 0\n",
    "    for i,j in zip(str1, str2):\n",
    "        if i != j:\n",
    "            count += 1\n",
    "        if count > 1:\n",
    "            return False\n",
    "    return True\n",
    "            \n",
    "solution(\"hit\",\"cog\",[\"hot\", \"dot\", \"dog\", \"lot\", \"log\", \"cog\"])"
   ]
  },
  {
   "cell_type": "code",
   "execution_count": null,
   "metadata": {},
   "outputs": [],
   "source": []
  },
  {
   "cell_type": "code",
   "execution_count": null,
   "metadata": {},
   "outputs": [],
   "source": []
  }
 ],
 "metadata": {
  "kernelspec": {
   "display_name": "Python 3",
   "language": "python",
   "name": "python3"
  },
  "language_info": {
   "codemirror_mode": {
    "name": "ipython",
    "version": 3
   },
   "file_extension": ".py",
   "mimetype": "text/x-python",
   "name": "python",
   "nbconvert_exporter": "python",
   "pygments_lexer": "ipython3",
   "version": "3.11.0"
  },
  "orig_nbformat": 4,
  "vscode": {
   "interpreter": {
    "hash": "949777d72b0d2535278d3dc13498b2535136f6dfe0678499012e853ee9abcab1"
   }
  }
 },
 "nbformat": 4,
 "nbformat_minor": 2
}
