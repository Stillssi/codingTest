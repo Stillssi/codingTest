{
 "cells": [
  {
   "attachments": {},
   "cell_type": "markdown",
   "metadata": {},
   "source": [
    "- DFS"
   ]
  },
  {
   "cell_type": "code",
   "execution_count": null,
   "metadata": {},
   "outputs": [],
   "source": [
    "def solution(tickets):\n",
    "    graph = {}\n",
    "    for start, end in tickets:\n",
    "        #graph.get(start, [])는 딕셔너리 graph에서 key가 start인 값(value)을 가져오는데, 만약 해당 key가 존재하지 않으면 빈 리스트([])를 반환.\n",
    "        graph[start] = graph.get(start, []) + [end]\n",
    "        graph[start].sort()\n",
    "\n",
    "    def dfs(start, route):\n",
    "        if len(route) == len(tickets) + 1:\n",
    "            return route\n",
    "\n",
    "        if start not in graph: #노드가 없으면 none 리턴\n",
    "            return None\n",
    "\n",
    "        for i, end in enumerate(graph[start]):\n",
    "            graph[start].pop(i)\n",
    "            result = dfs(end, route + [end])\n",
    "            if result:\n",
    "                return result\n",
    "            #더 이상 갈 수 있는 노드가 없는 경우 다시 넣어줌\n",
    "            graph[start].insert(i, end)\n",
    "\n",
    "    answer = dfs(\"ICN\", [\"ICN\"])\n",
    "    return answer\n",
    "\n",
    "solution([[\"ICN\", \"JFK\"], [\"ICN\", \"AAD\"], [\"JFK\", \"ICN\"]]) #[\"ICN\", \"ATL\", \"ICN\", \"SFO\", \"ATL\", \"SFO\"]"
   ]
  },
  {
   "cell_type": "code",
   "execution_count": null,
   "metadata": {},
   "outputs": [],
   "source": []
  }
 ],
 "metadata": {
  "kernelspec": {
   "display_name": "Python 3",
   "language": "python",
   "name": "python3"
  },
  "language_info": {
   "name": "python",
   "version": "3.11.0"
  },
  "orig_nbformat": 4
 },
 "nbformat": 4,
 "nbformat_minor": 2
}
