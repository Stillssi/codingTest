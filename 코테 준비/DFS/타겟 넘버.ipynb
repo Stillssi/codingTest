{
 "cells": [
  {
   "attachments": {},
   "cell_type": "markdown",
   "metadata": {},
   "source": [
    "- DFS"
   ]
  },
  {
   "cell_type": "code",
   "execution_count": null,
   "metadata": {},
   "outputs": [],
   "source": [
    "def solution(numbers, target):\n",
    "    idx = curr = 0\n",
    "    def dfs(nums, target, curr, idx):\n",
    "        # 결과 비교는 마지막에 인덱스가 끝까지 갔을 때 합니다\n",
    "        if idx == len(nums):\n",
    "            return 1 if curr == target else 0\n",
    "\n",
    "        # idx를 한칸 움직여주고 curr에 이번 값을 더하거나 뺍니다\n",
    "        return dfs(nums, target, curr + nums[idx], idx + 1) \\\n",
    "                + dfs(nums, target, curr - nums[idx], idx + 1)\n",
    "\n",
    "    answer = dfs(numbers, target, idx, curr)\n",
    "    return answer\n",
    "solution([1, 1, 1, 1, 1], 3)"
   ]
  }
 ],
 "metadata": {
  "kernelspec": {
   "display_name": "Python 3",
   "language": "python",
   "name": "python3"
  },
  "language_info": {
   "codemirror_mode": {
    "name": "ipython",
    "version": 3
   },
   "file_extension": ".py",
   "mimetype": "text/x-python",
   "name": "python",
   "nbconvert_exporter": "python",
   "pygments_lexer": "ipython3",
   "version": "3.11.0"
  },
  "orig_nbformat": 4,
  "vscode": {
   "interpreter": {
    "hash": "949777d72b0d2535278d3dc13498b2535136f6dfe0678499012e853ee9abcab1"
   }
  }
 },
 "nbformat": 4,
 "nbformat_minor": 2
}
