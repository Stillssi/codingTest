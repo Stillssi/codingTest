{
 "cells": [
  {
   "attachments": {},
   "cell_type": "markdown",
   "metadata": {},
   "source": [
    "- 피보나치 수열"
   ]
  },
  {
   "cell_type": "code",
   "execution_count": null,
   "metadata": {},
   "outputs": [],
   "source": [
    "import sys\n",
    "sys.stdin = open('./input.txt', 'r')\n",
    "\n",
    "N = int(sys.stdin.readline())\n",
    "\n",
    "if N > 1:\n",
    "    K = [0] * N\n",
    "    K[0], K[1] = 1,1\n",
    "    for i in range(2, N):\n",
    "        K[i] = K[i-1] + K[i-2]\n",
    "    print(K[N-1])\n",
    "elif N == 1:\n",
    "    print(1)\n",
    "else: \n",
    "    print(0)"
   ]
  }
 ],
 "metadata": {
  "kernelspec": {
   "display_name": "Python 3",
   "language": "python",
   "name": "python3"
  },
  "language_info": {
   "codemirror_mode": {
    "name": "ipython",
    "version": 3
   },
   "file_extension": ".py",
   "mimetype": "text/x-python",
   "name": "python",
   "nbconvert_exporter": "python",
   "pygments_lexer": "ipython3",
   "version": "3.11.0"
  },
  "orig_nbformat": 4
 },
 "nbformat": 4,
 "nbformat_minor": 2
}
