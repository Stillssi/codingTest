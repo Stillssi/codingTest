{
 "cells": [
  {
   "attachments": {},
   "cell_type": "markdown",
   "metadata": {},
   "source": [
    "- 게임 맵 최단 거리 (BFS)"
   ]
  },
  {
   "cell_type": "code",
   "execution_count": null,
   "metadata": {},
   "outputs": [],
   "source": [
    "from collections import deque\n",
    "\n",
    "def solution(maps):\n",
    "    answer = -1  # 도달할 수 없는 경우에는 -1을 반환\n",
    "    #움직일 방향 #상, 하, 좌, 우\n",
    "    dx = [1, -1, 0 , 0]\n",
    "    dy = [0 ,0 ,-1, 1]\n",
    "    visited = [[False for _ in range(len(maps[0]))] for _ in range(len(maps))]\n",
    "    \n",
    "    dq = deque([(0,0,1)]) #시작 x, 시작 y, 이동 거리\n",
    "    visited[0][0] = True\n",
    "    while dq:\n",
    "        x,y,dist = dq.popleft()\n",
    "        for i in range(4):\n",
    "            nx = x + dx[i]\n",
    "            ny = y + dy[i]\n",
    "            if nx >= 0 and ny >= 0 and nx < len(maps) and ny < len(maps[0]):\n",
    "                if nx == len(maps)-1 and ny == len(maps[0])-1:\n",
    "                    return dist + 1\n",
    "                if maps[nx][ny] == 1 and visited[nx][ny] == False:\n",
    "                    visited[nx][ny] = True\n",
    "                    dq.append((nx, ny, dist + 1))\n",
    "    \n",
    "    return answer\n",
    "solution([[1,0,1,1,1],[1,0,1,0,1],[1,0,1,1,1],[1,1,1,0,1],[0,0,0,0,1]])"
   ]
  },
  {
   "cell_type": "code",
   "execution_count": null,
   "metadata": {},
   "outputs": [],
   "source": [
    "n,m = map(int, input().split())\n",
    "\n",
    "graph = []\n",
    "for i in range(n):\n",
    "    graph.append(list(map(int, input().split())))\n",
    "\n",
    "print()\n"
   ]
  }
 ],
 "metadata": {
  "kernelspec": {
   "display_name": "Python 3",
   "language": "python",
   "name": "python3"
  },
  "language_info": {
   "codemirror_mode": {
    "name": "ipython",
    "version": 3
   },
   "file_extension": ".py",
   "mimetype": "text/x-python",
   "name": "python",
   "nbconvert_exporter": "python",
   "pygments_lexer": "ipython3",
   "version": "3.11.0"
  },
  "orig_nbformat": 4,
  "vscode": {
   "interpreter": {
    "hash": "949777d72b0d2535278d3dc13498b2535136f6dfe0678499012e853ee9abcab1"
   }
  }
 },
 "nbformat": 4,
 "nbformat_minor": 2
}
