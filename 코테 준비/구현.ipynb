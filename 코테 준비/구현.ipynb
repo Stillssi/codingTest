{
 "cells": [
  {
   "cell_type": "code",
   "execution_count": null,
   "metadata": {},
   "outputs": [],
   "source": [
    "n = int(input()) #5\n",
    "x, y = 1,1\n",
    "plans = input().split() #R R R U D D\n",
    "\n",
    "dx = [0, 0 ,-1,1]\n",
    "dy = [-1, 1, 0 ,0]\n",
    "move_types = ['L', 'R', 'U','D'];\n",
    "for plan in plans:\n",
    "    for i in range(len(move_types)):\n",
    "        if plan == move_types[i]:\n",
    "            nx = x + dx[i]\n",
    "            ny = y + dy[i]\n",
    "    if nx < 1 or ny < 1 or nx > n or ny > n:\n",
    "        continue\n",
    "    x,y = nx, ny\n",
    "print(x,y)"
   ]
  },
  {
   "cell_type": "code",
   "execution_count": null,
   "metadata": {},
   "outputs": [],
   "source": [
    "input_data = input() #a1\n",
    "\n",
    "dict_k = {\"a\":1, \"b\":2, \"c\":3, \"d\":4, \"e\":5, \"f\":6, \"g\":7, \"h\":8}\n",
    "col = dict_k[input_data[0]]\n",
    "row =  int(input_data[1])\n",
    "answer = 0\n",
    "direction = [(2, 1),(2, -1), (1,2), (-1,2), (-1, -2), (1,-2), (-2, 1), (-2, -1)]\n",
    "for direct in direction:\n",
    "    nx = col + direct[0]\n",
    "    ny = row + direct[1]\n",
    "    \n",
    "    if nx < 1 or nx > 8 or ny<1 or ny>8:\n",
    "        continue\n",
    "    else:\n",
    "        answer += 1\n",
    "\n",
    "print(answer)\n",
    "        "
   ]
  },
  {
   "cell_type": "code",
   "execution_count": null,
   "metadata": {},
   "outputs": [],
   "source": [
    "n, m = map(int, input().split())\n",
    "d = [[0] * m for _ in range(n)] #간 곳 체크\n",
    "\n",
    "x,y,direction = map(int, input().split())\n",
    "d[x][y] = 1\n",
    "\n",
    "array = []\n",
    "for i in range(n):\n",
    "    array.append(list(map(int, input().split)))\n",
    "    \n",
    "dx = [-1, 0,1,0] #북, 동, 남, 서\n",
    "dy = [0, 1,0, -1]\n",
    "\n",
    "def turn_left():\n",
    "    global direction\n",
    "    direction -= 1\n",
    "    if direction == -1:\n",
    "        direction = 3\n",
    "        \n",
    "count = 1\n",
    "turn_time = 0\n",
    "\n",
    "while True:\n",
    "    turn_left()\n",
    "    nx = x + dx[direction]\n",
    "    ny = y + dy[direction]\n",
    "    if d[nx][ny] == 0 and array[nx][ny] == 0:\n",
    "        d[nx][ny] = 1\n",
    "        x = nx\n",
    "        y = ny\n",
    "        count += 1\n",
    "        turn_time = 0\n",
    "        continue\n",
    "    else:\n",
    "        turn_time += 1\n",
    "        if turn_time == 4:\n",
    "            nx = x - dx[direction]\n",
    "            ny = y - dy[direction]\n",
    "            if array[nx][ny] == 0:\n",
    "                x =nx\n",
    "                y = ny\n",
    "            else:\n",
    "                break\n",
    "            turn_time = 0"
   ]
  },
  {
   "cell_type": "code",
   "execution_count": null,
   "metadata": {},
   "outputs": [],
   "source": []
  }
 ],
 "metadata": {
  "kernelspec": {
   "display_name": "Python 3",
   "language": "python",
   "name": "python3"
  },
  "language_info": {
   "codemirror_mode": {
    "name": "ipython",
    "version": 3
   },
   "file_extension": ".py",
   "mimetype": "text/x-python",
   "name": "python",
   "nbconvert_exporter": "python",
   "pygments_lexer": "ipython3",
   "version": "3.11.0"
  },
  "orig_nbformat": 4,
  "vscode": {
   "interpreter": {
    "hash": "949777d72b0d2535278d3dc13498b2535136f6dfe0678499012e853ee9abcab1"
   }
  }
 },
 "nbformat": 4,
 "nbformat_minor": 2
}
