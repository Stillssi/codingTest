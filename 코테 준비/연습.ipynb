{
 "cells": [
  {
   "attachments": {},
   "cell_type": "markdown",
   "metadata": {},
   "source": [
    "# 해시"
   ]
  },
  {
   "attachments": {},
   "cell_type": "markdown",
   "metadata": {},
   "source": [
    "당신은 폰켓몬을 잡기 위한 오랜 여행 끝에, 홍 박사님의 연구실에 도착했습니다. 홍 박사님은 당신에게 자신의 연구실에 있는 총 N 마리의 폰켓몬 중에서 N/2마리를 가져가도 좋다고 했습니다.  \n",
    "홍 박사님 연구실의 폰켓몬은 종류에 따라 번호를 붙여 구분합니다. 따라서 같은 종류의 폰켓몬은 같은 번호를 가지고 있습니다. 예를 들어 연구실에 총 4마리의 폰켓몬이 있고,   \n",
    "각 폰켓몬의 종류 번호가 [3번, 1번, 2번, 3번]이라면 이는 3번 폰켓몬 두 마리, 1번 폰켓몬 한 마리, 2번 폰켓몬 한 마리가 있음을 나타냅니다. 이때, 4마리의 폰켓몬 중 2마리를 고르는 방법은 다음과 같이 6가지가 있습니다.  \n",
    "\n",
    "첫 번째(3번), 두 번째(1번) 폰켓몬을 선택  \n",
    "첫 번째(3번), 세 번째(2번) 폰켓몬을 선택  \n",
    "첫 번째(3번), 네 번째(3번) 폰켓몬을 선택  \n",
    "두 번째(1번), 세 번째(2번) 폰켓몬을 선택  \n",
    "두 번째(1번), 네 번째(3번) 폰켓몬을 선택  \n",
    "세 번째(2번), 네 번째(3번) 폰켓몬을 선택  \n",
    "이때, 첫 번째(3번) 폰켓몬과 네 번째(3번) 폰켓몬을 선택하는 방법은 한 종류(3번 폰켓몬 두 마리)의 폰켓몬만 가질 수 있지만, 다른 방법들은 모두 두 종류의 폰켓몬을 가질 수 있습니다. 따라서 위 예시에서 가질 수 있는 폰켓몬 종류 수의 최댓값은 2가 됩니다.  \n",
    "당신은 최대한 다양한 종류의 폰켓몬을 가지길 원하기 때문에, 최대한 많은 종류의 폰켓몬을 포함해서 N/2마리를 선택하려 합니다.   \n",
    "N마리 폰켓몬의 종류 번호가 담긴 배열 nums가 매개변수로 주어질 때, N/2마리의 폰켓몬을 선택하는 방법 중, 가장 많은 종류의 폰켓몬을 선택하는 방법을 찾아,   \n",
    "그때의 폰켓몬 종류 번호의 개수를 return 하도록 solution 함수를 완성해주세요."
   ]
  },
  {
   "cell_type": "code",
   "execution_count": null,
   "metadata": {},
   "outputs": [],
   "source": [
    "\n",
    "def solution(nums):\n",
    "    answer = 0\n",
    "    N = len(nums) // 2\n",
    "    answer = len(set(nums))\n",
    "    \n",
    "    return min(N, answer)\n",
    "    \n",
    "solution([3,1,2,3])"
   ]
  },
  {
   "attachments": {},
   "cell_type": "markdown",
   "metadata": {},
   "source": [
    "수많은 마라톤 선수들이 마라톤에 참여하였습니다. \n",
    "\n",
    "단 한 명의 선수를 제외하고는 모든 선수가 마라톤을 완주하였습니다.\n",
    "\n",
    "마라톤에 참여한 선수들의 이름이 담긴 배열 participant와 완주한 선수들의 이름이 담긴 배열 completion이 주어질 때, 완주하지 못한 선수의 이름을 return 하도록 solution 함수를 작성해주세요."
   ]
  },
  {
   "cell_type": "code",
   "execution_count": null,
   "metadata": {},
   "outputs": [],
   "source": [
    "from collections import Counter\n",
    "\n",
    "def solution(participant, completion):\n",
    "    k = Counter(participant)\n",
    "    for i in completion:\n",
    "        k[i] = k[i] - 1\n",
    "    for key, value in k.items():\n",
    "        if value > 0:\n",
    "            return key\n",
    "\n",
    "solution(\t[\"mislav\", \"stanko\", \"mislav\", \"ana\"], [\"stanko\", \"ana\", \"mislav\"])"
   ]
  },
  {
   "cell_type": "code",
   "execution_count": null,
   "metadata": {},
   "outputs": [],
   "source": [
    "def solution(phone_book):   \n",
    "    phone_book.sort()\n",
    "    for i in range(len(phone_book)-1):\n",
    "        if phone_book[i] == phone_book[i+1][0:len(phone_book[i])]:\n",
    "            return False\n",
    "        \n",
    "    return True\n",
    "        \n",
    "    \n",
    "solution([\"119\", \"97674223\", \"1195524421\"])"
   ]
  },
  {
   "cell_type": "code",
   "execution_count": null,
   "metadata": {},
   "outputs": [],
   "source": [
    "from collections import defaultdict\n",
    "def solution(clothes):\n",
    "    answer = 1 \n",
    "    clothes = [(i[1], i[0]) for i in clothes]\n",
    "    index = defaultdict(list)\n",
    "    for cloth in clothes:\n",
    "        index[cloth[0]].append(cloth[1])\n",
    "    \n",
    "    for value in index.values():\n",
    "        answer *= len(value) + 1\n",
    "  \n",
    "    return answer - 1\n",
    "solution([[\"yellow_hat\", \"headgear\"], [\"blue_sunglasses\", \"eyewear\"], [\"green_turban\", \"headgear\"]]\t)"
   ]
  },
  {
   "cell_type": "code",
   "execution_count": null,
   "metadata": {},
   "outputs": [],
   "source": [
    "from collections import defaultdict\n",
    "def solution(genres, plays):\n",
    "    answer,tmp  = [], []\n",
    "\n",
    "    gen = defaultdict(list) #default dict 선언\n",
    "    \n",
    "    id = [ i for i in range(len(plays))] #고유 id\n",
    "    songs = list(zip(plays, id)) #(부른 수, 고유 id)\n",
    "    \n",
    "    for i,j in zip(genres, songs): #{'genre': [(부른 수, 고유id), ...]}\n",
    "        gen[i].append(j)\n",
    "    \n",
    "    #genre별 부른 수 sum한 값 내림차순\n",
    "    sorted_data = dict(sorted(gen.items(), key=lambda item: sum(x[0] for x in item[1]), reverse=True))\n",
    "    #정렬한 dict에서 장르 안에서 부른 수 내림차순, 고유id 오름차순\n",
    "    for i in sorted_data.keys():\n",
    "        j = sorted( sorted_data[i], key=lambda x: (-x[0], x[1]) )\n",
    "        tmp.append(j)\n",
    "    \n",
    "    \n",
    "    for i in range(len(tmp)):\n",
    "        for j in range(len(tmp[i])):\n",
    "            if j >= 2:\n",
    "                break\n",
    "            answer.append(tmp[i][j][1])\n",
    "    \n",
    "    return answer\n",
    "solution([\"classic\", \"pop\", \"classic\", \"classic\", \"pop\"], [1500, 600, 150, 800, 2500]) #[4, 1, 3, 0]\n"
   ]
  },
  {
   "attachments": {},
   "cell_type": "markdown",
   "metadata": {},
   "source": [
    "# 스택/큐"
   ]
  },
  {
   "cell_type": "code",
   "execution_count": null,
   "metadata": {},
   "outputs": [],
   "source": [
    "def solution(arr):\n",
    "    answer = []\n",
    "    for i in range(len(arr)):\n",
    "       if len(answer) != 0 and answer[-1] == arr[i]:\n",
    "           continue\n",
    "       else:\n",
    "           answer.append(arr[i])\n",
    "    return answer\n",
    "\n",
    "solution([1,1,3,3,0,1,1])"
   ]
  },
  {
   "cell_type": "code",
   "execution_count": null,
   "metadata": {},
   "outputs": [],
   "source": [
    "def solution(progresses,speeds):\n",
    "    tmp = []\n",
    "    answer = []\n",
    "    for i in range(len(progresses)):\n",
    "        i,v = divmod(100-progresses[i], speeds[i])\n",
    "        if v:\n",
    "            i = i + 1\n",
    "        tmp.append(i)\n",
    "    \n",
    "    k = tmp[0]\n",
    "    cnt = 1\n",
    "    for i in range(1, len(tmp)):\n",
    "        if tmp[i] <= k:\n",
    "            cnt += 1\n",
    "        else:\n",
    "            k = tmp[i]\n",
    "            answer.append(cnt)\n",
    "            cnt = 1\n",
    "        if i == len(tmp)-1:\n",
    "            answer.append(cnt)\n",
    "    return answer\n",
    "\n",
    "solution([93, 30, 55],[1, 30, 5])"
   ]
  },
  {
   "attachments": {},
   "cell_type": "markdown",
   "metadata": {},
   "source": [
    "괄호가 바르게 짝지어졌다는 것은 '(' 문자로 열렸으면 반드시 짝지어서 ')' 문자로 닫혀야 한다는 뜻입니다.\n",
    "예를 들어\n",
    "\n",
    "\"()()\" 또는 \"(())()\" 는 올바른 괄호입니다.  \n",
    "\")()(\" 또는 \"(()(\" 는 올바르지 않은 괄호입니다.  \n",
    "'(' 또는 ')' 로만 이루어진 문자열 s가 주어졌을 때,  \n",
    "\n",
    "문자열 s가 올바른 괄호이면 true를 return 하고, 올바르지 않은 괄호이면 false를 return 하는 solution 함수를 완성해 주세요."
   ]
  },
  {
   "cell_type": "code",
   "execution_count": null,
   "metadata": {},
   "outputs": [],
   "source": [
    "def solution(s):\n",
    "    answer = False\n",
    "    tmp =[]\n",
    "    for i in s:\n",
    "        if len(tmp) != 0 and tmp[-1] + i == \"()\":\n",
    "            tmp.pop()\n",
    "        else:\n",
    "            tmp.append(i)\n",
    "    return answer\n",
    "\n",
    "solution(\"(())()\") #True"
   ]
  },
  {
   "cell_type": "code",
   "execution_count": null,
   "metadata": {},
   "outputs": [],
   "source": [
    "def solution(priorities, location):\n",
    "    queue =  [(i,p) for i,p in enumerate(priorities)]\n",
    "    answer = 0\n",
    "    while True:\n",
    "        cur = queue.pop(0)\n",
    "        if any(cur[1] < q[1] for q in queue):\n",
    "            queue.append(cur)\n",
    "        else:\n",
    "            answer += 1\n",
    "            if cur[0] == location:\n",
    "                return answer\n",
    "            \n",
    "solution([2, 1, 3, 2],2)"
   ]
  },
  {
   "cell_type": "code",
   "execution_count": null,
   "metadata": {},
   "outputs": [],
   "source": [
    "def solution(bridge_length, weight, truck_weights):\n",
    "    tmp = [0] * bridge_length\n",
    "    cnt = 0\n",
    "    bridge_sum = 0\n",
    "    while len(truck_weights) > 0:\n",
    "        cnt += 1\n",
    "        bridge_sum -= tmp.pop(0)\n",
    "        if bridge_sum + truck_weights[0] > weight:\n",
    "            tmp.append(0)\n",
    "        else:\n",
    "            w = truck_weights.pop(0)\n",
    "            tmp.append(w)\n",
    "            bridge_sum += w\n",
    "    return cnt + bridge_length\n",
    "\n",
    "solution(2, 10, [7, 4, 5, 6])"
   ]
  }
 ],
 "metadata": {
  "kernelspec": {
   "display_name": "Python 3",
   "language": "python",
   "name": "python3"
  },
  "language_info": {
   "codemirror_mode": {
    "name": "ipython",
    "version": 3
   },
   "file_extension": ".py",
   "mimetype": "text/x-python",
   "name": "python",
   "nbconvert_exporter": "python",
   "pygments_lexer": "ipython3",
   "version": "3.11.0"
  },
  "orig_nbformat": 4
 },
 "nbformat": 4,
 "nbformat_minor": 2
}
