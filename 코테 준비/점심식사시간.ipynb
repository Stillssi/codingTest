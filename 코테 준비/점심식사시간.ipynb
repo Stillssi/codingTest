{
 "cells": [
  {
   "cell_type": "code",
   "execution_count": null,
   "metadata": {},
   "outputs": [],
   "source": [
    "import sys\n",
    "from collections import deque\n",
    "sys.stdin = open(\"./sample_input.txt\", \"r\")\n",
    "\n",
    "T = int(sys.stdin.readline())\n",
    "def go_stairs(num, i, stairs, dx, dy):\n",
    "    dq = deque([(i[0], i[1],0)])\n",
    "    visited = [[False for _ in range(num+1)] for _ in range(num+1)]\n",
    "    visited[i[0]][i[1]] = True\n",
    "    while dq:\n",
    "        x, y, time = dq.popleft()\n",
    "        for j in range(len(stairs)):\n",
    "            if x == stairs[j][0] and y == stairs[j][1]:\n",
    "                return [j, time ]\n",
    "        for k in range(4):\n",
    "            nx = x + dx[k]\n",
    "            ny = y + dy[k]\n",
    "            if visited[nx][ny] == False and nx >= 0 and ny >= 0 and nx < num and ny < num:\n",
    "                dq.append((nx, ny, time+1))\n",
    "                \n",
    "for test_case in range(1, T + 1):\n",
    "    num = int(sys.stdin.readline())\n",
    "    array = []\n",
    "    for i in range(num):\n",
    "        tmp = list(map(int, sys.stdin.readline().split()))\n",
    "        array.append(tmp)\n",
    "    locs = []\n",
    "    stairs = []\n",
    "    for i in range(len(array)):\n",
    "        for j in range(len(array[i])):\n",
    "            if array[i][j] == 1:\n",
    "                locs.append([i,j])\n",
    "            elif array[i][j] > 1:\n",
    "                stairs.append([i,j])\n",
    "                \n",
    "    dx = [0,0,-1,1]\n",
    "    dy = [1,-1,0,0]\n",
    "    answer = [[] for _ in range(len(stairs))]\n",
    "\n",
    "    for loc in locs:\n",
    "        temp = go_stairs(num, loc,stairs,dx,dy)\n",
    "        answer[temp[0]].append(temp[1])\n",
    "    \n",
    "    wh_time = 1\n",
    "    while len(answer[0]) != 0 and len(answer[1])!= 0:\n",
    "        \n",
    "        \n",
    "    print(answer)\n",
    "\n",
    "\n",
    "    \n",
    "    "
   ]
  }
 ],
 "metadata": {
  "kernelspec": {
   "display_name": "Python 3",
   "language": "python",
   "name": "python3"
  },
  "language_info": {
   "codemirror_mode": {
    "name": "ipython",
    "version": 3
   },
   "file_extension": ".py",
   "mimetype": "text/x-python",
   "name": "python",
   "nbconvert_exporter": "python",
   "pygments_lexer": "ipython3",
   "version": "3.11.0"
  },
  "orig_nbformat": 4
 },
 "nbformat": 4,
 "nbformat_minor": 2
}
