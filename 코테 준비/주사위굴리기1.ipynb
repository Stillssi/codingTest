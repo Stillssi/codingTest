{
 "cells": [
  {
   "cell_type": "code",
   "execution_count": null,
   "metadata": {},
   "outputs": [],
   "source": [
    "import sys\n",
    "sys.stdin = open('./input.txt', 'r')\n",
    "\n",
    "n,m,x,y,k = map(int, sys.stdin.readline().split())\n",
    "array = []\n",
    "\n",
    "\n",
    "for i in range(n):\n",
    "    array.append(list(map(int, sys.stdin.readline().split())))\n",
    "    \n",
    "move_list = list(map(int, sys.stdin.readline().split()))\n",
    "\n",
    "dx = [0,0,-1,1] #동, 서, 북, 남\n",
    "dy = [1,-1,0,0]\n",
    "\n",
    "def move(x,y, direct, dice):\n",
    "    nx = x + dx[direct]\n",
    "    ny = y + dy[direct]\n",
    "    if nx < 0 or ny < 0 or nx >= n or ny>=m:\n",
    "        return 0\n",
    "    a, b, c, d, e, f = dice[0], dice[1], dice[2], dice[3], dice[4], dice[5]\n",
    "    if direct == 0: #동\n",
    "        dice[0], dice[1], dice[2], dice[3], dice[4], dice[5] = d, b, a, f, e, c\n",
    "\n",
    "    elif direct == 1: #서\n",
    "        dice[0], dice[1], dice[2], dice[3], dice[4], dice[5] = c, b, f, a, e, d\n",
    "\n",
    "    elif direct == 2: #북\n",
    "        dice[0], dice[1], dice[2], dice[3], dice[4], dice[5] = e, a, c, d, f, b\n",
    "\n",
    "    else:\n",
    "        dice[0], dice[1], dice[2], dice[3], dice[4], dice[5] = b, f, c, d, a, e\n",
    "    \n",
    "    return dice, nx, ny\n",
    "\n",
    "dice = [0,0,0,0,0,0] #아래, 뒤, 왼, 오, 앞, 위\n",
    "for ml in move_list:\n",
    "    result = move(x,y,ml-1, dice)\n",
    "    if result:  # 반환값이 None이 아닌 경우에만 처리\n",
    "        dice, x, y = result\n",
    "        if array[x][y] == 0:\n",
    "            array[x][y] = dice[-1]\n",
    "        else:\n",
    "            dice[-1] = array[x][y]\n",
    "            array[x][y] = 0\n",
    "\n",
    "        print(dice[0])\n",
    "    \n",
    "    \n",
    "    "
   ]
  },
  {
   "cell_type": "code",
   "execution_count": null,
   "metadata": {},
   "outputs": [],
   "source": []
  }
 ],
 "metadata": {
  "kernelspec": {
   "display_name": "Python 3",
   "language": "python",
   "name": "python3"
  },
  "language_info": {
   "codemirror_mode": {
    "name": "ipython",
    "version": 3
   },
   "file_extension": ".py",
   "mimetype": "text/x-python",
   "name": "python",
   "nbconvert_exporter": "python",
   "pygments_lexer": "ipython3",
   "version": "3.11.0"
  },
  "orig_nbformat": 4
 },
 "nbformat": 4,
 "nbformat_minor": 2
}
