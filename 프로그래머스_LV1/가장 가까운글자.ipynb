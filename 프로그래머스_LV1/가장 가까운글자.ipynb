{
 "cells": [
  {
   "cell_type": "code",
   "execution_count": null,
   "metadata": {},
   "outputs": [],
   "source": [
    "def solution(s):\n",
    "    answer = []\n",
    "    s = list(s)\n",
    "    temp = []\n",
    "    for i in s:\n",
    "        if len(temp) == 0:\n",
    "            answer.append(-1)\n",
    "        elif i in temp:\n",
    "            answer.append(temp.index(i)+1)\n",
    "        else:\n",
    "            answer.append(-1)\n",
    "        temp.insert(0,i)\n",
    "        \n",
    "    return answer\n",
    "    \n",
    "solution(\"banana\") #[-1, -1, -1, 2, 2, 2]"
   ]
  },
  {
   "cell_type": "code",
   "execution_count": null,
   "metadata": {},
   "outputs": [],
   "source": [
    "def solution(s):\n",
    "    answer = []\n",
    "    dic = dict()\n",
    "    for i in range(len(s)):\n",
    "        if s[i] not in dic:\n",
    "            answer.append(-1)\n",
    "        else:\n",
    "            answer.append(i - dic[s[i]])\n",
    "        dic[s[i]] = i\n",
    "\n",
    "    return answer"
   ]
  }
 ],
 "metadata": {
  "kernelspec": {
   "display_name": "Python 3",
   "language": "python",
   "name": "python3"
  },
  "language_info": {
   "codemirror_mode": {
    "name": "ipython",
    "version": 3
   },
   "file_extension": ".py",
   "mimetype": "text/x-python",
   "name": "python",
   "nbconvert_exporter": "python",
   "pygments_lexer": "ipython3",
   "version": "3.11.0"
  },
  "orig_nbformat": 4,
  "vscode": {
   "interpreter": {
    "hash": "949777d72b0d2535278d3dc13498b2535136f6dfe0678499012e853ee9abcab1"
   }
  }
 },
 "nbformat": 4,
 "nbformat_minor": 2
}
