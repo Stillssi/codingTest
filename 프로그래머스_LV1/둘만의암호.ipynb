{
 "cells": [
  {
   "cell_type": "code",
   "execution_count": null,
   "metadata": {},
   "outputs": [],
   "source": [
    "def solution(s, skip, index):\n",
    "    answer = ''\n",
    "    tmp = []\n",
    "    for i in skip:\n",
    "        tmp.append(ord(i))\n",
    "\n",
    "    for i in s:\n",
    "        k = ord(i)\n",
    "        ind = index\n",
    "        while ind > 0:\n",
    "            k = (k+1-ord('a'))%26+ord('a')         \n",
    "            if k in tmp:\n",
    "                ind = ind + 1\n",
    "            ind = ind - 1\n",
    "            \n",
    "        answer += chr(k)\n",
    "    \n",
    "    return answer"
   ]
  }
 ],
 "metadata": {
  "kernelspec": {
   "display_name": "Python 3",
   "language": "python",
   "name": "python3"
  },
  "language_info": {
   "codemirror_mode": {
    "name": "ipython",
    "version": 3
   },
   "file_extension": ".py",
   "mimetype": "text/x-python",
   "name": "python",
   "nbconvert_exporter": "python",
   "pygments_lexer": "ipython3",
   "version": "3.11.0"
  },
  "orig_nbformat": 4,
  "vscode": {
   "interpreter": {
    "hash": "949777d72b0d2535278d3dc13498b2535136f6dfe0678499012e853ee9abcab1"
   }
  }
 },
 "nbformat": 4,
 "nbformat_minor": 2
}
