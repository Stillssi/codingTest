{
 "cells": [
  {
   "cell_type": "code",
   "execution_count": null,
   "metadata": {},
   "outputs": [],
   "source": [
    "def solution(a, b, n):\n",
    "    answer = 0\n",
    "    mod = 0\n",
    "    while n>1:\n",
    "        print(n)\n",
    "        i,j = divmod(n,a)\n",
    "        n = i*b\n",
    "\n",
    "        answer += i*b\n",
    "        mod += j\n",
    "        \n",
    "        if n < a:\n",
    "            mod += n\n",
    "            \n",
    "        if mod >= a:\n",
    "            k,l = divmod(mod,a)\n",
    "            answer += k*b\n",
    "            mod = l\n",
    "        \n",
    "    return answer + n\n",
    "solution(3, 1, 20)"
   ]
  },
  {
   "cell_type": "code",
   "execution_count": null,
   "metadata": {},
   "outputs": [],
   "source": [
    "def solution(a, b, n):\n",
    "    answer = 0\n",
    "    while n//a>=1 :\n",
    "        i,j = divmod(n,a)\n",
    "        n = i*b\n",
    "        n = n+j\n",
    "        answer += i*b\n",
    "        \n",
    "    return answer\n",
    "solution(5, 3, 20)"
   ]
  },
  {
   "cell_type": "code",
   "execution_count": 33,
   "metadata": {},
   "outputs": [
    {
     "data": {
      "text/plain": [
       "24"
      ]
     },
     "execution_count": 33,
     "metadata": {},
     "output_type": "execute_result"
    }
   ],
   "source": [
    "solution = lambda a, b, n: (n - b) // (a - b) * b\n",
    "solution(5, 3, 20)"
   ]
  },
  {
   "cell_type": "code",
   "execution_count": null,
   "metadata": {},
   "outputs": [],
   "source": []
  }
 ],
 "metadata": {
  "kernelspec": {
   "display_name": "Python 3",
   "language": "python",
   "name": "python3"
  },
  "language_info": {
   "codemirror_mode": {
    "name": "ipython",
    "version": 3
   },
   "file_extension": ".py",
   "mimetype": "text/x-python",
   "name": "python",
   "nbconvert_exporter": "python",
   "pygments_lexer": "ipython3",
   "version": "3.11.0"
  },
  "orig_nbformat": 4,
  "vscode": {
   "interpreter": {
    "hash": "949777d72b0d2535278d3dc13498b2535136f6dfe0678499012e853ee9abcab1"
   }
  }
 },
 "nbformat": 4,
 "nbformat_minor": 2
}
