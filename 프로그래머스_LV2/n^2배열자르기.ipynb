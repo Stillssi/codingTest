{
 "cells": [
  {
   "cell_type": "code",
   "execution_count": 47,
   "metadata": {},
   "outputs": [
    {
     "data": {
      "text/plain": [
       "[4, 3, 3, 3, 4, 4, 4, 4]"
      ]
     },
     "execution_count": 47,
     "metadata": {},
     "output_type": "execute_result"
    }
   ],
   "source": [
    "def solution(n, left, right):\n",
    "    answer = []\n",
    "    temp = [[0 for _ in range(n)] for _ in range(n)]\n",
    "    for i in range(n):\n",
    "        for j in range(i,n):\n",
    "            temp[i][j] = j+1\n",
    "            temp[j][i] = j+1 \n",
    "    \n",
    "    for i in range(n):\n",
    "        for j in range(n):\n",
    "            answer.append(temp[i][j])\n",
    "            \n",
    "    return answer[left:right+1]\n",
    "\n",
    "\n",
    "solution(\t4, 7, 14)\n"
   ]
  },
  {
   "cell_type": "code",
   "execution_count": 48,
   "metadata": {},
   "outputs": [
    {
     "name": "stdout",
     "output_type": "stream",
     "text": [
      "[[1, 2, 3, 4], [2, 2, 3, 4], [3, 3, 3, 4], [4, 4, 4, 4]]\n"
     ]
    },
    {
     "data": {
      "text/plain": [
       "[4, 4, 4, 4, 4]"
      ]
     },
     "execution_count": 48,
     "metadata": {},
     "output_type": "execute_result"
    }
   ],
   "source": [
    "def solution(n, left, right):\n",
    "    answer = []\n",
    "    temp = [[0 for _ in range(n)] for _ in range(n)]\n",
    "    \n",
    "    for i in range(n):\n",
    "        for j in range(n):\n",
    "            temp[i][j] = max(i,j) +1 \n",
    "    print(temp)\n",
    "    for i in range(left//n, right//n+1):\n",
    "        if i == left//n:\n",
    "            a = left%n\n",
    "            b = n\n",
    "        elif i ==right//n:\n",
    "            a = 0\n",
    "            b = right % n + 1\n",
    "        else:\n",
    "            l = n\n",
    "        for j in range(a,b):\n",
    "            answer.append(temp[i][j])\n",
    "            \n",
    "    return answer\n",
    "\n",
    "\n",
    "solution(4, 7, 14)"
   ]
  },
  {
   "cell_type": "code",
   "execution_count": null,
   "metadata": {},
   "outputs": [],
   "source": []
  }
 ],
 "metadata": {
  "kernelspec": {
   "display_name": "Python 3",
   "language": "python",
   "name": "python3"
  },
  "language_info": {
   "codemirror_mode": {
    "name": "ipython",
    "version": 3
   },
   "file_extension": ".py",
   "mimetype": "text/x-python",
   "name": "python",
   "nbconvert_exporter": "python",
   "pygments_lexer": "ipython3",
   "version": "3.11.0"
  },
  "orig_nbformat": 4,
  "vscode": {
   "interpreter": {
    "hash": "949777d72b0d2535278d3dc13498b2535136f6dfe0678499012e853ee9abcab1"
   }
  }
 },
 "nbformat": 4,
 "nbformat_minor": 2
}
