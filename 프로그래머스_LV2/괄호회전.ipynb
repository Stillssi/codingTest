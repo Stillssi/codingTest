{
 "cells": [
  {
   "cell_type": "code",
   "execution_count": null,
   "metadata": {},
   "outputs": [],
   "source": [
    "from collections import deque\n",
    "def solution(s):\n",
    "    answer = 0\n",
    "    \n",
    "    deq = deque(s)\n",
    "    for i in range(0,len(s)):\n",
    "        stack = []\n",
    "        deq = deque(list(s))\n",
    "        deq.rotate(-i)\n",
    "        for i in deq:\n",
    "            stack.append(ord(i))\n",
    "            if len(stack) > 1:\n",
    "                if stack[-2] == ord(i)-2 or stack[-2] == ord(i)-1:\n",
    "                    stack.pop(-1)\n",
    "                    stack.pop(-1)\n",
    "        if len(stack) == 0:\n",
    "             answer += 1\n",
    "    \n",
    "    return answer\n",
    "\n",
    "# solution(\"[](){}\") #3\n",
    "# solution(\"}]()[{\") #2\n",
    "solution(\"[)(]\") #0"
   ]
  }
 ],
 "metadata": {
  "kernelspec": {
   "display_name": "Python 3",
   "language": "python",
   "name": "python3"
  },
  "language_info": {
   "codemirror_mode": {
    "name": "ipython",
    "version": 3
   },
   "file_extension": ".py",
   "mimetype": "text/x-python",
   "name": "python",
   "nbconvert_exporter": "python",
   "pygments_lexer": "ipython3",
   "version": "3.11.0"
  },
  "orig_nbformat": 4,
  "vscode": {
   "interpreter": {
    "hash": "949777d72b0d2535278d3dc13498b2535136f6dfe0678499012e853ee9abcab1"
   }
  }
 },
 "nbformat": 4,
 "nbformat_minor": 2
}
