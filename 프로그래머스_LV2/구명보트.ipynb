{
 "cells": [
  {
   "cell_type": "code",
   "execution_count": 67,
   "metadata": {},
   "outputs": [
    {
     "name": "stdout",
     "output_type": "stream",
     "text": [
      "[40, 55, 55, 60, 60, 60]\n"
     ]
    },
    {
     "data": {
      "text/plain": [
       "7"
      ]
     },
     "execution_count": 67,
     "metadata": {},
     "output_type": "execute_result"
    }
   ],
   "source": [
    "def solution(people, limit):\n",
    "    cnt = 0\n",
    "    a = [i for i in people if limit-i >= 40]\n",
    "    cnt += len(people)-len(a)\n",
    "\n",
    "    if len(a) == 1:\n",
    "        return cnt + 1\n",
    "        \n",
    "    a.sort()\n",
    "    while True:\n",
    "        if len(a) == 1:\n",
    "            return cnt + 1\n",
    "        elif len(a) == 0:\n",
    "            return cnt\n",
    "        \n",
    "        if a[0] + a[-1] <= limit:\n",
    "            cnt +=1\n",
    "            a.pop(0)\n",
    "            a.pop(-1)\n",
    "        else:\n",
    "            a.pop(-1)\n",
    "            cnt +=1\n",
    "\n",
    "solution([40, 55, 55, 60, 60, 60, 70, 80], 100)\n"
   ]
  },
  {
   "cell_type": "code",
   "execution_count": null,
   "metadata": {},
   "outputs": [],
   "source": []
  }
 ],
 "metadata": {
  "kernelspec": {
   "display_name": "Python 3",
   "language": "python",
   "name": "python3"
  },
  "language_info": {
   "codemirror_mode": {
    "name": "ipython",
    "version": 3
   },
   "file_extension": ".py",
   "mimetype": "text/x-python",
   "name": "python",
   "nbconvert_exporter": "python",
   "pygments_lexer": "ipython3",
   "version": "3.11.0"
  },
  "orig_nbformat": 4,
  "vscode": {
   "interpreter": {
    "hash": "949777d72b0d2535278d3dc13498b2535136f6dfe0678499012e853ee9abcab1"
   }
  }
 },
 "nbformat": 4,
 "nbformat_minor": 2
}
