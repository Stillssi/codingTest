{
 "cells": [
  {
   "cell_type": "code",
   "execution_count": null,
   "metadata": {},
   "outputs": [],
   "source": [
    "def solution(people, limit):\n",
    "    cnt = 0\n",
    "    a = [i for i in people if limit-i >= 40]\n",
    "    cnt += len(people)-len(a)\n",
    "\n",
    "    if len(a) == 1:\n",
    "        return cnt + 1\n",
    "        \n",
    "    a.sort()\n",
    "    while True:\n",
    "        if len(a) == 1:\n",
    "            return cnt + 1\n",
    "        elif len(a) == 0:\n",
    "            return cnt\n",
    "        \n",
    "        if a[0] + a[-1] <= limit:\n",
    "            cnt +=1\n",
    "            a.pop(0)\n",
    "            a.pop(-1)\n",
    "        else:\n",
    "            a.pop(-1)\n",
    "            cnt +=1\n",
    "\n",
    "solution([40, 55, 55, 60, 60, 60, 70, 80], 100)\n"
   ]
  },
  {
   "cell_type": "code",
   "execution_count": null,
   "metadata": {},
   "outputs": [],
   "source": [
    "from collections import deque\n",
    "def solution(people, limit):\n",
    "    people.sort()\n",
    "    dq = deque(people)\n",
    "    cnt = 0\n",
    "    \n",
    "    while len(dq) > 1:\n",
    "        if  dq[0] + dq[-1] <= limit:\n",
    "            dq.popleft()\n",
    "        cnt +=1\n",
    "        dq.pop() \n",
    "\n",
    "    if dq:\n",
    "        cnt += 1\n",
    "    return cnt\n",
    "\n",
    "solution([70, 50, 80, 50], 100)\n"
   ]
  },
  {
   "cell_type": "code",
   "execution_count": null,
   "metadata": {},
   "outputs": [],
   "source": [
    "from collections import deque\n",
    "def solution(people, limit):\n",
    "    answer = 0\n",
    "    people.sort()\n",
    "    dq = deque(people)\n",
    "    while len(dq) > 1:\n",
    "        if dq[0] + dq[-1] <= limit:\n",
    "            dq.popleft()\n",
    "        answer += 1    \n",
    "        dq.pop()\n",
    "    if dq:\n",
    "        answer+= 1\n",
    "    return answer"
   ]
  },
  {
   "attachments": {},
   "cell_type": "markdown",
   "metadata": {},
   "source": [
    "## 모범답안"
   ]
  },
  {
   "cell_type": "code",
   "execution_count": 8,
   "metadata": {},
   "outputs": [],
   "source": [
    "def solution(people, limit) :\n",
    "    answer = 0\n",
    "    people.sort()\n",
    "\n",
    "    a = 0\n",
    "    b = len(people) - 1\n",
    "    while a < b :\n",
    "        if people[b] + people[a] <= limit :\n",
    "            a += 1\n",
    "            answer += 1\n",
    "        b -= 1\n",
    "    return len(people) - answer"
   ]
  },
  {
   "cell_type": "code",
   "execution_count": null,
   "metadata": {},
   "outputs": [],
   "source": []
  }
 ],
 "metadata": {
  "kernelspec": {
   "display_name": "Python 3",
   "language": "python",
   "name": "python3"
  },
  "language_info": {
   "codemirror_mode": {
    "name": "ipython",
    "version": 3
   },
   "file_extension": ".py",
   "mimetype": "text/x-python",
   "name": "python",
   "nbconvert_exporter": "python",
   "pygments_lexer": "ipython3",
   "version": "3.11.0"
  },
  "orig_nbformat": 4,
  "vscode": {
   "interpreter": {
    "hash": "949777d72b0d2535278d3dc13498b2535136f6dfe0678499012e853ee9abcab1"
   }
  }
 },
 "nbformat": 4,
 "nbformat_minor": 2
}
