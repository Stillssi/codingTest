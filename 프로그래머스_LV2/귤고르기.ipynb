{
 "cells": [
  {
   "attachments": {},
   "cell_type": "markdown",
   "metadata": {},
   "source": [
    "## Counter 안써서 시간 초과"
   ]
  },
  {
   "cell_type": "code",
   "execution_count": null,
   "metadata": {},
   "outputs": [],
   "source": [
    "def solution(k, tangerine):\n",
    "    answer = 0\n",
    "    sum_t = 0\n",
    "    num_list = []\n",
    "    max_num = max(tangerine)\n",
    "    \n",
    "    for i in range(1, max_num+1):\n",
    "        t = tangerine.count(i)\n",
    "        num_list.append(t)\n",
    "        \n",
    "    temp = sorted(num_list, key=lambda x:-x)\n",
    "    \n",
    "    for j in range(len(temp)):\n",
    "        sum_t += temp[j]\n",
    "        if sum_t >= k :\n",
    "            answer = j+1\n",
    "            break\n",
    "        \n",
    "    return answer\n",
    "    \n",
    "solution(4,[1, 3, 2, 5, 4, 5, 2, 3])\n"
   ]
  },
  {
   "attachments": {},
   "cell_type": "markdown",
   "metadata": {},
   "source": [
    "## Counter 쓴 것"
   ]
  },
  {
   "cell_type": "code",
   "execution_count": null,
   "metadata": {},
   "outputs": [],
   "source": [
    "from collections import Counter\n",
    "def solution(k, tangerine):\n",
    "    answer, sum_t = 0,0\n",
    "    num_list = Counter(tangerine)\n",
    "    print(num_list)\n",
    "    print(num_list.items())\n",
    "    temp = sorted(num_list.items(), key=lambda x: x[1], reverse=True)\n",
    "\n",
    "    for j in range(len(temp)):\n",
    "        sum_t += temp[j][1]\n",
    "        if sum_t >= k :\n",
    "            answer = j+1\n",
    "            break\n",
    "        \n",
    "    return answer\n",
    "    \n",
    "solution(4,[1, 3, 2, 5, 4, 5, 2, 3])\n"
   ]
  },
  {
   "cell_type": "code",
   "execution_count": null,
   "metadata": {},
   "outputs": [],
   "source": []
  }
 ],
 "metadata": {
  "kernelspec": {
   "display_name": "Python 3",
   "language": "python",
   "name": "python3"
  },
  "language_info": {
   "codemirror_mode": {
    "name": "ipython",
    "version": 3
   },
   "file_extension": ".py",
   "mimetype": "text/x-python",
   "name": "python",
   "nbconvert_exporter": "python",
   "pygments_lexer": "ipython3",
   "version": "3.11.0"
  },
  "orig_nbformat": 4,
  "vscode": {
   "interpreter": {
    "hash": "949777d72b0d2535278d3dc13498b2535136f6dfe0678499012e853ee9abcab1"
   }
  }
 },
 "nbformat": 4,
 "nbformat_minor": 2
}
