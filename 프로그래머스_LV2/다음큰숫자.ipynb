{
 "cells": [
  {
   "cell_type": "code",
   "execution_count": 8,
   "metadata": {},
   "outputs": [
    {
     "data": {
      "text/plain": [
       "83"
      ]
     },
     "execution_count": 8,
     "metadata": {},
     "output_type": "execute_result"
    }
   ],
   "source": [
    "def solution(n):\n",
    "    answer = 0\n",
    "    \n",
    "    bin_n = bin(n).replace('0b', '').count('1')\n",
    "    i = n + 1\n",
    "    while True:\n",
    "        if bin(i).replace('0b', '').count('1') == bin_n:\n",
    "            break\n",
    "        else:\n",
    "            i += 1\n",
    "    return i\n",
    "\n",
    "solution(78)"
   ]
  },
  {
   "cell_type": "code",
   "execution_count": 17,
   "metadata": {},
   "outputs": [
    {
     "ename": "TypeError",
     "evalue": "list.remove() takes exactly one argument (2 given)",
     "output_type": "error",
     "traceback": [
      "\u001b[0;31m---------------------------------------------------------------------------\u001b[0m",
      "\u001b[0;31mTypeError\u001b[0m                                 Traceback (most recent call last)",
      "Cell \u001b[0;32mIn [17], line 13\u001b[0m\n\u001b[1;32m      6\u001b[0m     \u001b[39mprint\u001b[39m(a)\n\u001b[1;32m     11\u001b[0m     \u001b[39mreturn\u001b[39;00m answer\n\u001b[0;32m---> 13\u001b[0m solution(\u001b[39m\"\u001b[39;49m\u001b[39mbaabaa\u001b[39;49m\u001b[39m\"\u001b[39;49m)\n",
      "Cell \u001b[0;32mIn [17], line 4\u001b[0m, in \u001b[0;36msolution\u001b[0;34m(s)\u001b[0m\n\u001b[1;32m      2\u001b[0m answer \u001b[39m=\u001b[39m \u001b[39m0\u001b[39m\n\u001b[1;32m      3\u001b[0m a \u001b[39m=\u001b[39m \u001b[39mlist\u001b[39m(s)\n\u001b[0;32m----> 4\u001b[0m a\u001b[39m.\u001b[39;49mremove(a[\u001b[39m1\u001b[39;49m],a[\u001b[39m2\u001b[39;49m])\n\u001b[1;32m      5\u001b[0m \u001b[39m# map(lambda x: a.remove(a[x:x+2]))\u001b[39;00m\n\u001b[1;32m      6\u001b[0m \u001b[39mprint\u001b[39m(a)\n",
      "\u001b[0;31mTypeError\u001b[0m: list.remove() takes exactly one argument (2 given)"
     ]
    }
   ],
   "source": [
    "def solution(s):\n",
    "    answer = 0\n",
    "    a = list(s\n",
    "    # map(lambda x: a.remove(a[x:x+2]))\n",
    "    print(a)\n",
    "    \n",
    "          \n",
    "                \n",
    "\n",
    "    return answer\n",
    "\n",
    "solution(\"baabaa\")"
   ]
  },
  {
   "cell_type": "code",
   "execution_count": null,
   "metadata": {},
   "outputs": [],
   "source": []
  }
 ],
 "metadata": {
  "kernelspec": {
   "display_name": "Python 3",
   "language": "python",
   "name": "python3"
  },
  "language_info": {
   "codemirror_mode": {
    "name": "ipython",
    "version": 3
   },
   "file_extension": ".py",
   "mimetype": "text/x-python",
   "name": "python",
   "nbconvert_exporter": "python",
   "pygments_lexer": "ipython3",
   "version": "3.11.0 (v3.11.0:deaf509e8f, Oct 24 2022, 14:43:23) [Clang 13.0.0 (clang-1300.0.29.30)]"
  },
  "orig_nbformat": 4,
  "vscode": {
   "interpreter": {
    "hash": "949777d72b0d2535278d3dc13498b2535136f6dfe0678499012e853ee9abcab1"
   }
  }
 },
 "nbformat": 4,
 "nbformat_minor": 2
}
