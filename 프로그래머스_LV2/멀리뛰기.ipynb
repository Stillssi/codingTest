{
 "cells": [
  {
   "attachments": {},
   "cell_type": "markdown",
   "metadata": {},
   "source": [
    "- 피보나치 수열\n",
    "  - 1칸일 때 경우의 수는 1, 2일때는 (1,1)과 (2)해서 2\n",
    "  - 1항 = 1\n",
    "  - 2항 = 2\n",
    "  - 3항 = 1+2 = (1,1,1),(2,1),(2,1)\n",
    "  - 4항 = 2+3 = 5"
   ]
  },
  {
   "cell_type": "code",
   "execution_count": null,
   "metadata": {},
   "outputs": [],
   "source": [
    "def solution(n):\n",
    "    if n == 1:\n",
    "        return 1\n",
    "    elif n == 2:\n",
    "        return 2 \n",
    "    else:\n",
    "        a,b = 1,2\n",
    "        for i in range(n-2):\n",
    "            a, b  = b, a+b\n",
    "        return b % 1234567\n",
    "    \n",
    "solution(30)"
   ]
  }
 ],
 "metadata": {
  "kernelspec": {
   "display_name": "Python 3",
   "language": "python",
   "name": "python3"
  },
  "language_info": {
   "codemirror_mode": {
    "name": "ipython",
    "version": 3
   },
   "file_extension": ".py",
   "mimetype": "text/x-python",
   "name": "python",
   "nbconvert_exporter": "python",
   "pygments_lexer": "ipython3",
   "version": "3.11.0"
  },
  "orig_nbformat": 4,
  "vscode": {
   "interpreter": {
    "hash": "949777d72b0d2535278d3dc13498b2535136f6dfe0678499012e853ee9abcab1"
   }
  }
 },
 "nbformat": 4,
 "nbformat_minor": 2
}
