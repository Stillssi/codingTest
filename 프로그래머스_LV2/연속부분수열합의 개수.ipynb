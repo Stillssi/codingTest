{
 "cells": [
  {
   "cell_type": "code",
   "execution_count": 7,
   "metadata": {},
   "outputs": [
    {
     "name": "stdout",
     "output_type": "stream",
     "text": [
      "5\n",
      "[7]\n",
      "[9]\n",
      "[1]\n",
      "[1]\n",
      "[4]\n",
      "3\n",
      "[7, 9]\n",
      "[9, 1]\n",
      "[1, 1]\n",
      "2\n",
      "[7, 9, 1]\n",
      "[9, 1, 1]\n",
      "2\n",
      "[7, 9, 1, 1]\n",
      "[9, 1, 1, 4]\n",
      "1\n",
      "[7, 9, 1, 1, 4]\n"
     ]
    },
    {
     "data": {
      "text/plain": [
       "0"
      ]
     },
     "execution_count": 7,
     "metadata": {},
     "output_type": "execute_result"
    }
   ],
   "source": [
    "def solution(elements):\n",
    "    answer = 0\n",
    "    for i in range(1, len(elements)+1):\n",
    "        k = len(elements)//i if len(elements)%i == 0 else len(elements)//i+1\n",
    "        print(k)\n",
    "        for j in range(k):\n",
    "            print(elements[j:j+i])\n",
    "    return answer\n",
    "\n",
    "solution([7,9,1,1,4])"
   ]
  },
  {
   "cell_type": "code",
   "execution_count": null,
   "metadata": {},
   "outputs": [],
   "source": []
  }
 ],
 "metadata": {
  "kernelspec": {
   "display_name": "Python 3",
   "language": "python",
   "name": "python3"
  },
  "language_info": {
   "codemirror_mode": {
    "name": "ipython",
    "version": 3
   },
   "file_extension": ".py",
   "mimetype": "text/x-python",
   "name": "python",
   "nbconvert_exporter": "python",
   "pygments_lexer": "ipython3",
   "version": "3.11.0"
  },
  "orig_nbformat": 4,
  "vscode": {
   "interpreter": {
    "hash": "949777d72b0d2535278d3dc13498b2535136f6dfe0678499012e853ee9abcab1"
   }
  }
 },
 "nbformat": 4,
 "nbformat_minor": 2
}
