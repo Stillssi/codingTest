{
 "cells": [
  {
   "attachments": {},
   "cell_type": "markdown",
   "metadata": {},
   "source": [
    "1. 첫번쨰"
   ]
  },
  {
   "cell_type": "code",
   "execution_count": null,
   "metadata": {},
   "outputs": [],
   "source": [
    "def solution(n,a,b):\n",
    "    answer = 0\n",
    "    if a %  2 != 0:\n",
    "        a = a+1\n",
    "    if b % 2 == 0:\n",
    "        b = b-1\n",
    "    quotient, remainder = divmod(b-a-1,2) \n",
    "    if remainder != 0:\n",
    "        return quotient + 3\n",
    "    else:\n",
    "        return quotient + 2\n",
    "\n",
    "solution(8,4,7)"
   ]
  },
  {
   "attachments": {},
   "cell_type": "markdown",
   "metadata": {},
   "source": [
    "2. 두번째 (시간 초과)"
   ]
  },
  {
   "cell_type": "code",
   "execution_count": null,
   "metadata": {},
   "outputs": [],
   "source": [
    "def solution(n,a,b):\n",
    "    id_list = [i for i in range(1,n+1)]\n",
    "    cnt = 1\n",
    "    while True:\n",
    "        tmp = [[id_list[i],id_list[i+1]] for i in range(0, len(id_list), 2)]\n",
    "        print(tmp)\n",
    "        tmp_1 = []    \n",
    "        for i in tmp:\n",
    "            if [a,b] == i:\n",
    "                return cnt\n",
    "            elif a in i:\n",
    "                tmp_1.append(a)\n",
    "            elif b in i:\n",
    "                tmp_1.append(b)\n",
    "            else:\n",
    "                tmp_1.append(i[0])\n",
    "        id_list = tmp_1\n",
    "        cnt += 1\n",
    "        \n",
    "solution(32,5, 7)\n"
   ]
  },
  {
   "attachments": {},
   "cell_type": "markdown",
   "metadata": {},
   "source": [
    "3번쨰"
   ]
  },
  {
   "cell_type": "code",
   "execution_count": null,
   "metadata": {},
   "outputs": [],
   "source": [
    "def solution(n,a,b):\n",
    "    cnt = 0\n",
    "    \n",
    "    while(b!=a):\n",
    "        cnt +=1\n",
    "        a = (a+1)//2\n",
    "        b = (b+1)//2\n",
    "\n",
    "    return cnt"
   ]
  }
 ],
 "metadata": {
  "kernelspec": {
   "display_name": "Python 3",
   "language": "python",
   "name": "python3"
  },
  "language_info": {
   "codemirror_mode": {
    "name": "ipython",
    "version": 3
   },
   "file_extension": ".py",
   "mimetype": "text/x-python",
   "name": "python",
   "nbconvert_exporter": "python",
   "pygments_lexer": "ipython3",
   "version": "3.11.0"
  },
  "orig_nbformat": 4,
  "vscode": {
   "interpreter": {
    "hash": "949777d72b0d2535278d3dc13498b2535136f6dfe0678499012e853ee9abcab1"
   }
  }
 },
 "nbformat": 4,
 "nbformat_minor": 2
}
