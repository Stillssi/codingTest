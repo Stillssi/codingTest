{
 "cells": [
  {
   "cell_type": "code",
   "execution_count": 1,
   "metadata": {},
   "outputs": [
    {
     "data": {
      "text/plain": [
       "168"
      ]
     },
     "execution_count": 1,
     "metadata": {},
     "output_type": "execute_result"
    }
   ],
   "source": [
    "import numpy as np\n",
    "def solution(arr):\n",
    "    answer = 0\n",
    "    n = 1\n",
    "    answer = max(arr)\n",
    "    arr = np.array(arr)\n",
    "    \n",
    "    while(True):\n",
    "        an = answer * n\n",
    "        tmp = an%arr\n",
    "        if sum(tmp == 0) == len(tmp):\n",
    "            return an\n",
    "        else:\n",
    "            n+= 1\n",
    "\n",
    "solution([2,6,8,14])"
   ]
  }
 ],
 "metadata": {
  "kernelspec": {
   "display_name": "Python 3",
   "language": "python",
   "name": "python3"
  },
  "language_info": {
   "codemirror_mode": {
    "name": "ipython",
    "version": 3
   },
   "file_extension": ".py",
   "mimetype": "text/x-python",
   "name": "python",
   "nbconvert_exporter": "python",
   "pygments_lexer": "ipython3",
   "version": "3.11.0"
  },
  "orig_nbformat": 4,
  "vscode": {
   "interpreter": {
    "hash": "949777d72b0d2535278d3dc13498b2535136f6dfe0678499012e853ee9abcab1"
   }
  }
 },
 "nbformat": 4,
 "nbformat_minor": 2
}
