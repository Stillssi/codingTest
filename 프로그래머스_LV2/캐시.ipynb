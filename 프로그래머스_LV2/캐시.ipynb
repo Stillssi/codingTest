{
 "cells": [
  {
   "cell_type": "code",
   "execution_count": 21,
   "metadata": {},
   "outputs": [
    {
     "data": {
      "text/plain": [
       "16"
      ]
     },
     "execution_count": 21,
     "metadata": {},
     "output_type": "execute_result"
    }
   ],
   "source": [
    "def solution(cacheSize, cities):\n",
    "    cache = []\n",
    "    answer = 0\n",
    "    for i in range(len(cities)):\n",
    "        cities[i] = cities[i].upper()\n",
    "        \n",
    "    if cacheSize == 0:\n",
    "        return len(cities)*5\n",
    "    \n",
    "    for i in cities:\n",
    "        if i in cache:\n",
    "                cache.remove(i)\n",
    "                cache.append(i)\n",
    "                answer += 1\n",
    "        elif len(cache) < cacheSize:\n",
    "            cache.append(i)\n",
    "            answer += 5\n",
    "        else:\n",
    "            cache.pop(0)\n",
    "            cache.append(i)\n",
    "            answer += 5\n",
    " \n",
    "    return answer\n",
    "\n",
    "# solution(2, [\"Jeju\", \"Pangyo\", \"Seoul\", \"NewYork\", \"LA\", \"SanFrancisco\", \"Seoul\", \"Rome\", \"Paris\", \"Jeju\", \"NewYork\", \"Rome\"])\n",
    "solution(5,  [\"a\", \"b\", \"c\", \"a\"])\n"
   ]
  }
 ],
 "metadata": {
  "kernelspec": {
   "display_name": "Python 3",
   "language": "python",
   "name": "python3"
  },
  "language_info": {
   "codemirror_mode": {
    "name": "ipython",
    "version": 3
   },
   "file_extension": ".py",
   "mimetype": "text/x-python",
   "name": "python",
   "nbconvert_exporter": "python",
   "pygments_lexer": "ipython3",
   "version": "3.11.0"
  },
  "orig_nbformat": 4,
  "vscode": {
   "interpreter": {
    "hash": "949777d72b0d2535278d3dc13498b2535136f6dfe0678499012e853ee9abcab1"
   }
  }
 },
 "nbformat": 4,
 "nbformat_minor": 2
}
