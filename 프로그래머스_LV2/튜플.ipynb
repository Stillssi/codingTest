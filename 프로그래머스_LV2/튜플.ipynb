{
 "cells": [
  {
   "cell_type": "code",
   "execution_count": null,
   "metadata": {},
   "outputs": [],
   "source": [
    "import itertools\n",
    "def solution(s):\n",
    "    answer = []\n",
    "    ext_s= s.lstrip('{').rstrip('}').split('},{')\n",
    "    temp = [i.split(',') for i in sorted(ext_s, key=len)]\n",
    "    \n",
    "    for i in range(len(temp)):\n",
    "        if i == 0:\n",
    "            answer.append(temp[i])\n",
    "        else:\n",
    "            answer.append([x for x in temp[i] if x not in temp[i-1]])\n",
    "            \n",
    "    answer = list(map(int, itertools.chain(*answer)))\n",
    "    return answer\n",
    "solution(\"{{20,111},{111}}\")"
   ]
  }
 ],
 "metadata": {
  "kernelspec": {
   "display_name": "Python 3",
   "language": "python",
   "name": "python3"
  },
  "language_info": {
   "codemirror_mode": {
    "name": "ipython",
    "version": 3
   },
   "file_extension": ".py",
   "mimetype": "text/x-python",
   "name": "python",
   "nbconvert_exporter": "python",
   "pygments_lexer": "ipython3",
   "version": "3.11.0"
  },
  "orig_nbformat": 4,
  "vscode": {
   "interpreter": {
    "hash": "949777d72b0d2535278d3dc13498b2535136f6dfe0678499012e853ee9abcab1"
   }
  }
 },
 "nbformat": 4,
 "nbformat_minor": 2
}
