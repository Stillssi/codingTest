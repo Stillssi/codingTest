{
 "cells": [
  {
   "cell_type": "code",
   "execution_count": 52,
   "metadata": {},
   "outputs": [
    {
     "name": "stdout",
     "output_type": "stream",
     "text": [
      "\n",
      "============1=============\n",
      "인식용 시계열 자료:\n",
      " [[1 3]\n",
      " [2 4]\n",
      " [3 5]\n",
      " [4 6]\n",
      " [5 7]]\n",
      "비유사도:  5.0\n",
      "대응 방향:  [(0, 0), (1, 1), (2, 2), (3, 3), (4, 4)]\n",
      "\n",
      "============2=============\n",
      "인식용 시계열 자료:\n",
      " [[2 3]\n",
      " [3 4]\n",
      " [4 5]\n",
      " [5 6]\n",
      " [6 7]]\n",
      "비유사도:  2.8284271247461903\n",
      "대응 방향:  [(0, 0), (0, 1), (1, 2), (2, 3), (3, 4), (4, 4)]\n",
      "\n",
      "============3=============\n",
      "인식용 시계열 자료:\n",
      " [[5 5]\n",
      " [6 6]\n",
      " [7 7]\n",
      " [8 8]\n",
      " [9 9]]\n",
      "비유사도:  16.970562748477143\n",
      "대응 방향:  [(0, 0), (0, 1), (0, 2), (0, 3), (1, 4), (2, 4), (3, 4), (4, 4)]\n"
     ]
    }
   ],
   "source": [
    "import numpy as np\n",
    "from scipy.spatial.distance import euclidean\n",
    "from fastdtw import fastdtw\n",
    "\n",
    "#5개의 학습 시계열 데이터\n",
    "data = [\n",
    "    np.array([[2,2], [3,3], [4,4], [5,5], [6,6]]),\n",
    "    np.array([[1,1], [2,2], [3,3], [4,4], [3,5]]),\n",
    "    np.array([[10,10], [9,9], [8,8], [7,7], [6,6]]),\n",
    "    np.array([[1,2], [2,3], [3,4], [4,5], [5,6]]),\n",
    "    np.array([[10,20], [20,30], [30,40], [40,50]]),\n",
    "]\n",
    "\n",
    "#데이터 간 DTW 거리 계산\n",
    "dtw_distances = []\n",
    "for i in range(len(data)):\n",
    "    for j in range(i+1, len(data)):\n",
    "        distance, path = fastdtw(data[i], data[j], dist=euclidean)\n",
    "        dtw_distances.append(distance)\n",
    "\n",
    "#평균, 분산\n",
    "aver_dtw = np.mean(dtw_distances)\n",
    "var_dtw = np.var(dtw_distances)\n",
    "#학습 자료 생성\n",
    "result = {'average': aver_dtw, 'variance': var_dtw} \n",
    "\n",
    "# 추가 인식용 시계열 데이터 3개\n",
    "recog_series1 = np.array([[1,3], [2,4], [3,5], [4,6], [5,7]])\n",
    "recog_series2 = np.array([[2,3], [3,4], [4,5], [5,6], [6,7]])\n",
    "recog_series3= np.array([[5,5], [6,6], [7,7], [8,8], [9,9]])\n",
    "#한 배열로 합침\n",
    "recog_series = [recog_series1, recog_series2, recog_series3]\n",
    "\n",
    "i = 1\n",
    "for r_series in recog_series:\n",
    "    recog_dtw = []\n",
    "    paths = []\n",
    "    for series in data:\n",
    "        distance, path = fastdtw(r_series, series, dist=euclidean) #각 학습 데이터와 거리 계산\n",
    "        recog_dtw.append(distance)\n",
    "        paths.append(path)\n",
    "\n",
    "    index = np.argmin(recog_dtw) #가장 가까운 데이터 인덱스\n",
    "    closest_series = data[index]\n",
    "    print(f\"\\n============{i}=============\")\n",
    "    print(\"인식용 시계열 자료:\\n\", r_series)\n",
    "    print(\"비유사도: \", recog_dtw[index])\n",
    "    print(\"대응 방향: \", paths[index])\n",
    "    i+=1\n"
   ]
  },
  {
   "cell_type": "code",
   "execution_count": null,
   "metadata": {},
   "outputs": [],
   "source": []
  }
 ],
 "metadata": {
  "kernelspec": {
   "display_name": "Python 3",
   "language": "python",
   "name": "python3"
  },
  "language_info": {
   "codemirror_mode": {
    "name": "ipython",
    "version": 3
   },
   "file_extension": ".py",
   "mimetype": "text/x-python",
   "name": "python",
   "nbconvert_exporter": "python",
   "pygments_lexer": "ipython3",
   "version": "3.11.0"
  },
  "orig_nbformat": 4
 },
 "nbformat": 4,
 "nbformat_minor": 2
}
